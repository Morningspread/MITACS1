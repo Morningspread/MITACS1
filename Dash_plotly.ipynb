{
  "nbformat": 4,
  "nbformat_minor": 0,
  "metadata": {
    "colab": {
      "name": "Dash_plotly.ipynb",
      "provenance": [],
      "authorship_tag": "ABX9TyO1Piq86NH2JKUbUY/GcFoN",
      "include_colab_link": true
    },
    "kernelspec": {
      "name": "python3",
      "display_name": "Python 3"
    },
    "language_info": {
      "name": "python"
    }
  },
  "cells": [
    {
      "cell_type": "markdown",
      "metadata": {
        "id": "view-in-github",
        "colab_type": "text"
      },
      "source": [
        "<a href=\"https://colab.research.google.com/github/Morningspread/MITACS1/blob/main/Dash_plotly.ipynb\" target=\"_parent\"><img src=\"https://colab.research.google.com/assets/colab-badge.svg\" alt=\"Open In Colab\"/></a>"
      ]
    },
    {
      "cell_type": "code",
      "execution_count": 6,
      "metadata": {
        "colab": {
          "base_uri": "https://localhost:8080/"
        },
        "id": "1f2aQrO5E2II",
        "outputId": "755fb1ae-5b6e-4a95-c125-085d84bc5ec0"
      },
      "outputs": [
        {
          "output_type": "stream",
          "name": "stdout",
          "text": [
            "Looking in indexes: https://pypi.org/simple, https://us-python.pkg.dev/colab-wheels/public/simple/\n",
            "Requirement already satisfied: jupyter-dash in /usr/local/lib/python3.7/dist-packages (0.4.2)\n",
            "Requirement already satisfied: ipykernel in /usr/local/lib/python3.7/dist-packages (from jupyter-dash) (4.10.1)\n",
            "Requirement already satisfied: requests in /usr/local/lib/python3.7/dist-packages (from jupyter-dash) (2.23.0)\n",
            "Requirement already satisfied: ipython in /usr/local/lib/python3.7/dist-packages (from jupyter-dash) (5.5.0)\n",
            "Requirement already satisfied: retrying in /usr/local/lib/python3.7/dist-packages (from jupyter-dash) (1.3.3)\n",
            "Requirement already satisfied: nest-asyncio in /usr/local/lib/python3.7/dist-packages (from jupyter-dash) (1.5.5)\n",
            "Requirement already satisfied: ansi2html in /usr/local/lib/python3.7/dist-packages (from jupyter-dash) (1.7.0)\n",
            "Requirement already satisfied: dash in /usr/local/lib/python3.7/dist-packages (from jupyter-dash) (2.4.1)\n",
            "Requirement already satisfied: flask in /usr/local/lib/python3.7/dist-packages (from jupyter-dash) (1.1.4)\n",
            "Requirement already satisfied: importlib-metadata in /usr/local/lib/python3.7/dist-packages (from ansi2html->jupyter-dash) (4.11.4)\n",
            "Requirement already satisfied: plotly>=5.0.0 in /usr/local/lib/python3.7/dist-packages (from dash->jupyter-dash) (5.5.0)\n",
            "Requirement already satisfied: dash-html-components==2.0.0 in /usr/local/lib/python3.7/dist-packages (from dash->jupyter-dash) (2.0.0)\n",
            "Requirement already satisfied: flask-compress in /usr/local/lib/python3.7/dist-packages (from dash->jupyter-dash) (1.12)\n",
            "Requirement already satisfied: dash-core-components==2.0.0 in /usr/local/lib/python3.7/dist-packages (from dash->jupyter-dash) (2.0.0)\n",
            "Requirement already satisfied: dash-table==5.0.0 in /usr/local/lib/python3.7/dist-packages (from dash->jupyter-dash) (5.0.0)\n",
            "Requirement already satisfied: itsdangerous<2.0,>=0.24 in /usr/local/lib/python3.7/dist-packages (from flask->jupyter-dash) (1.1.0)\n",
            "Requirement already satisfied: Jinja2<3.0,>=2.10.1 in /usr/local/lib/python3.7/dist-packages (from flask->jupyter-dash) (2.11.3)\n",
            "Requirement already satisfied: click<8.0,>=5.1 in /usr/local/lib/python3.7/dist-packages (from flask->jupyter-dash) (7.1.2)\n",
            "Requirement already satisfied: Werkzeug<2.0,>=0.15 in /usr/local/lib/python3.7/dist-packages (from flask->jupyter-dash) (1.0.1)\n",
            "Requirement already satisfied: MarkupSafe>=0.23 in /usr/local/lib/python3.7/dist-packages (from Jinja2<3.0,>=2.10.1->flask->jupyter-dash) (2.0.1)\n",
            "Requirement already satisfied: six in /usr/local/lib/python3.7/dist-packages (from plotly>=5.0.0->dash->jupyter-dash) (1.15.0)\n",
            "Requirement already satisfied: tenacity>=6.2.0 in /usr/local/lib/python3.7/dist-packages (from plotly>=5.0.0->dash->jupyter-dash) (8.0.1)\n",
            "Requirement already satisfied: brotli in /usr/local/lib/python3.7/dist-packages (from flask-compress->dash->jupyter-dash) (1.0.9)\n",
            "Requirement already satisfied: typing-extensions>=3.6.4 in /usr/local/lib/python3.7/dist-packages (from importlib-metadata->ansi2html->jupyter-dash) (4.2.0)\n",
            "Requirement already satisfied: zipp>=0.5 in /usr/local/lib/python3.7/dist-packages (from importlib-metadata->ansi2html->jupyter-dash) (3.8.0)\n",
            "Requirement already satisfied: traitlets>=4.1.0 in /usr/local/lib/python3.7/dist-packages (from ipykernel->jupyter-dash) (5.1.1)\n",
            "Requirement already satisfied: jupyter-client in /usr/local/lib/python3.7/dist-packages (from ipykernel->jupyter-dash) (5.3.5)\n",
            "Requirement already satisfied: tornado>=4.0 in /usr/local/lib/python3.7/dist-packages (from ipykernel->jupyter-dash) (5.1.1)\n",
            "Requirement already satisfied: simplegeneric>0.8 in /usr/local/lib/python3.7/dist-packages (from ipython->jupyter-dash) (0.8.1)\n",
            "Requirement already satisfied: pickleshare in /usr/local/lib/python3.7/dist-packages (from ipython->jupyter-dash) (0.7.5)\n",
            "Requirement already satisfied: pygments in /usr/local/lib/python3.7/dist-packages (from ipython->jupyter-dash) (2.6.1)\n",
            "Requirement already satisfied: prompt-toolkit<2.0.0,>=1.0.4 in /usr/local/lib/python3.7/dist-packages (from ipython->jupyter-dash) (1.0.18)\n",
            "Requirement already satisfied: pexpect in /usr/local/lib/python3.7/dist-packages (from ipython->jupyter-dash) (4.8.0)\n",
            "Requirement already satisfied: setuptools>=18.5 in /usr/local/lib/python3.7/dist-packages (from ipython->jupyter-dash) (57.4.0)\n",
            "Requirement already satisfied: decorator in /usr/local/lib/python3.7/dist-packages (from ipython->jupyter-dash) (4.4.2)\n",
            "Requirement already satisfied: wcwidth in /usr/local/lib/python3.7/dist-packages (from prompt-toolkit<2.0.0,>=1.0.4->ipython->jupyter-dash) (0.2.5)\n",
            "Requirement already satisfied: python-dateutil>=2.1 in /usr/local/lib/python3.7/dist-packages (from jupyter-client->ipykernel->jupyter-dash) (2.8.2)\n",
            "Requirement already satisfied: pyzmq>=13 in /usr/local/lib/python3.7/dist-packages (from jupyter-client->ipykernel->jupyter-dash) (23.0.0)\n",
            "Requirement already satisfied: jupyter-core>=4.6.0 in /usr/local/lib/python3.7/dist-packages (from jupyter-client->ipykernel->jupyter-dash) (4.10.0)\n",
            "Requirement already satisfied: ptyprocess>=0.5 in /usr/local/lib/python3.7/dist-packages (from pexpect->ipython->jupyter-dash) (0.7.0)\n",
            "Requirement already satisfied: certifi>=2017.4.17 in /usr/local/lib/python3.7/dist-packages (from requests->jupyter-dash) (2022.5.18.1)\n",
            "Requirement already satisfied: chardet<4,>=3.0.2 in /usr/local/lib/python3.7/dist-packages (from requests->jupyter-dash) (3.0.4)\n",
            "Requirement already satisfied: urllib3!=1.25.0,!=1.25.1,<1.26,>=1.21.1 in /usr/local/lib/python3.7/dist-packages (from requests->jupyter-dash) (1.24.3)\n",
            "Requirement already satisfied: idna<3,>=2.5 in /usr/local/lib/python3.7/dist-packages (from requests->jupyter-dash) (2.10)\n"
          ]
        }
      ],
      "source": [
        "!pip install jupyter-dash # Required for making plotly dashboard in Jupiter"
      ]
    },
    {
      "cell_type": "markdown",
      "source": [
        "#The Dashboard"
      ],
      "metadata": {
        "id": "CtqTyxqrGK_q"
      }
    },
    {
      "cell_type": "code",
      "source": [
        "#Importing data \n",
        "from google.colab import drive\n",
        "drive.mount('/content/drive') # mounting the drive\n",
        "import pandas as pd\n",
        "import numpy as np\n",
        "\n",
        "# Loading the data\n",
        "path=\"/content/drive/MyDrive/Dashboard/DashSampleBCDATA.csv\"\n",
        "df=pd.read_csv(path)\n",
        "df.head()\n",
        "\n",
        "#Importing Libraries\n",
        "import plotly.express as px\n",
        "from jupyter_dash import JupyterDash\n",
        "import dash_core_components as dcc\n",
        "import dash_html_components as html\n",
        "from dash.dependencies import Input, Output\n",
        "\n",
        "\n",
        "app = JupyterDash(__name__)\n",
        "from dash.html import Div\n",
        "\n",
        "\n",
        "###############AppLayout#######################################################\n",
        "app.layout = html.Div([\n",
        "    html.Div([\n",
        "    html.H1('Loneliness Score'),\n",
        "    dcc.Slider( df['Loneliness Score'].min(),\n",
        "               df['Loneliness Score'].max(),\n",
        "               value=df['Loneliness Score'].min(),\n",
        "               id='ls',\n",
        "               marks={0: '0', df['Loneliness Score'].max(): '32'})          \n",
        "    ]),\n",
        "\n",
        "    html.Div(children=[\n",
        "       html.Label('Average PHQ-9', style={'paddingTop': '.3rem'}),\n",
        "       html.H3(id='no_acc', style={'fontWeight': 'bold'}),\n",
        "        ], style={'width': '50%', 'display': 'inline-block'}),\n",
        "\n",
        "    html.Div(children=[\n",
        "    html.Label('Average GAD-7', style={'paddingTop': '.3rem'}),\n",
        "    html.H3(id='GAD', style={'fontWeight': 'bold'}),\n",
        "    ],style={'width': '50%', 'display': 'inline-block'}),\n",
        "\n",
        "\n",
        "    html.Div([\n",
        "    html.H4('PHQ-9'),\n",
        "    dcc.Graph(id=\"graph1\"),\n",
        "    ],style={'width': '50%', 'display': 'inline-block'}),\n",
        "\n",
        "    html.Div([\n",
        "    html.H4('GAD-7'),\n",
        "    dcc.Graph(id=\"graph2\"),\n",
        "    ],style={'width': '50%', 'display': 'inline-block'})\n",
        "\n",
        "])\n",
        "\n",
        "###########AppCallback#########################################################\n",
        "@app.callback(\n",
        "    Output(\"graph1\", \"figure\"),  \n",
        "    Input(\"ls\", \"value\"))\n",
        "def display_color(ls):\n",
        "    #data = np.random.normal(mean, std, size=50000)\n",
        "    #Let's try the same code using the random.exponential... \n",
        "    data = df.loc[df['Loneliness Score']>ls]\n",
        "    #Let's try to change the range on the histogram\n",
        "    #fig = px.histogram(data, range_x=[-10, 10])\n",
        "    fig = px.histogram(data[['PHQ-9','Loneliness Score']], range_x=[0, 60])\n",
        "    return fig\n",
        "@app.callback(\n",
        "    Output(\"graph2\", \"figure\"),  \n",
        "    Input(\"ls\", \"value\"))\n",
        "def display_color(ls):\n",
        "    #data = np.random.normal(mean, std, size=50000)\n",
        "    #Let's try the same code using the random.exponential... \n",
        "    data = df.loc[df['Loneliness Score']>ls]\n",
        "    #Let's try to change the range on the histogram\n",
        "    #fig = px.histogram(data, range_x=[-10, 10])\n",
        "    fig = px.histogram(data[['GAD-7','Loneliness Score']], range_x=[0, 40])\n",
        "    return fig\n",
        "\n",
        "@app.callback(\n",
        "    Output(component_id='no_acc', component_property='children'),\n",
        "    Output('GAD', 'children'),\n",
        "    Input(\"ls\", \"value\"))\n",
        "def stat(ls):\n",
        "    data = df.loc[df['Loneliness Score']>ls]\n",
        "    a=data['PHQ-9'].mean()\n",
        "    b=data['GAD-7'].mean()\n",
        "    return a,b\n",
        "\n",
        "\n",
        "\n",
        "\n",
        "\n",
        "\n",
        "\n",
        "app.run_server('inline')"
      ],
      "metadata": {
        "colab": {
          "base_uri": "https://localhost:8080/",
          "height": 691
        },
        "id": "xpY7I4wuFED2",
        "outputId": "08a20547-bee2-4d1d-c568-1788cbca6c2f"
      },
      "execution_count": 7,
      "outputs": [
        {
          "output_type": "stream",
          "name": "stdout",
          "text": [
            "Drive already mounted at /content/drive; to attempt to forcibly remount, call drive.mount(\"/content/drive\", force_remount=True).\n"
          ]
        },
        {
          "output_type": "display_data",
          "data": {
            "text/plain": [
              "<IPython.core.display.Javascript object>"
            ],
            "application/javascript": [
              "(async (port, path, width, height, cache, element) => {\n",
              "    if (!google.colab.kernel.accessAllowed && !cache) {\n",
              "      return;\n",
              "    }\n",
              "    element.appendChild(document.createTextNode(''));\n",
              "    const url = await google.colab.kernel.proxyPort(port, {cache});\n",
              "    const iframe = document.createElement('iframe');\n",
              "    iframe.src = new URL(path, url).toString();\n",
              "    iframe.height = height;\n",
              "    iframe.width = width;\n",
              "    iframe.style.border = 0;\n",
              "    element.appendChild(iframe);\n",
              "  })(8050, \"/\", \"100%\", 650, false, window.element)"
            ]
          },
          "metadata": {}
        }
      ]
    }
  ]
}