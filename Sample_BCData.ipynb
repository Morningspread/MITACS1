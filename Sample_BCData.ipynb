{
  "cells": [
    {
      "cell_type": "markdown",
      "metadata": {
        "id": "view-in-github",
        "colab_type": "text"
      },
      "source": [
        "<a href=\"https://colab.research.google.com/github/Morningspread/MITACS1/blob/main/Sample_BCData.ipynb\" target=\"_parent\"><img src=\"https://colab.research.google.com/assets/colab-badge.svg\" alt=\"Open In Colab\"/></a>"
      ]
    },
    {
      "cell_type": "markdown",
      "source": [
        "#Sample Working Data Set"
      ],
      "metadata": {
        "id": "wQwvwN2KIzU2"
      },
      "id": "wQwvwN2KIzU2"
    },
    {
      "cell_type": "code",
      "source": [
        "#importing Pandas, Numpy and Matplotlib\n",
        "import pandas as pd \n",
        "import numpy as np\n",
        "import matplotlib.pyplot as plt\n",
        "import scipy.stats\n",
        "\n",
        "import sklearn \n",
        "import seaborn as sns; sns.set(style=\"ticks\", color_codes=True)\n",
        "from matplotlib import pyplot as plt\n",
        "from sklearn import  metrics\n",
        "#print(\"scikit-learn version: %s\" %sklearn.__version__)\n",
        "# We want to max out the display here\n",
        "import pandas as pd\n",
        "pd.set_option('display.max_rows', 500)\n",
        "pd.set_option('display.max_columns', 500)\n",
        "pd.set_option('display.width', 1000)"
      ],
      "metadata": {
        "id": "d7JNk4IE3a3e"
      },
      "id": "d7JNk4IE3a3e",
      "execution_count": 247,
      "outputs": []
    },
    {
      "cell_type": "markdown",
      "source": [
        "Creating a working Data Set Proportional to the BC Data.\n"
      ],
      "metadata": {
        "id": "H1HjUUd7RmsW"
      },
      "id": "H1HjUUd7RmsW"
    },
    {
      "cell_type": "code",
      "source": [
        "data= {  \"age\": [\"early\",\"middle\",\"old\"],\n",
        "  \"men_count\": [505,1425,633],\n",
        "  \"women_count\": [529,1355,553]}\n",
        "df=pd.DataFrame(data)\n",
        "df"
      ],
      "metadata": {
        "colab": {
          "base_uri": "https://localhost:8080/",
          "height": 143
        },
        "id": "sosRxvFIReJn",
        "outputId": "d164f19d-6474-47a0-858b-9bdd8d451efe"
      },
      "id": "sosRxvFIReJn",
      "execution_count": 248,
      "outputs": [
        {
          "output_type": "execute_result",
          "data": {
            "text/plain": [
              "      age  men_count  women_count\n",
              "0   early        505          529\n",
              "1  middle       1425         1355\n",
              "2     old        633          553"
            ],
            "text/html": [
              "\n",
              "  <div id=\"df-63551dca-a350-4fe5-a31f-d621032b0862\">\n",
              "    <div class=\"colab-df-container\">\n",
              "      <div>\n",
              "<style scoped>\n",
              "    .dataframe tbody tr th:only-of-type {\n",
              "        vertical-align: middle;\n",
              "    }\n",
              "\n",
              "    .dataframe tbody tr th {\n",
              "        vertical-align: top;\n",
              "    }\n",
              "\n",
              "    .dataframe thead th {\n",
              "        text-align: right;\n",
              "    }\n",
              "</style>\n",
              "<table border=\"1\" class=\"dataframe\">\n",
              "  <thead>\n",
              "    <tr style=\"text-align: right;\">\n",
              "      <th></th>\n",
              "      <th>age</th>\n",
              "      <th>men_count</th>\n",
              "      <th>women_count</th>\n",
              "    </tr>\n",
              "  </thead>\n",
              "  <tbody>\n",
              "    <tr>\n",
              "      <th>0</th>\n",
              "      <td>early</td>\n",
              "      <td>505</td>\n",
              "      <td>529</td>\n",
              "    </tr>\n",
              "    <tr>\n",
              "      <th>1</th>\n",
              "      <td>middle</td>\n",
              "      <td>1425</td>\n",
              "      <td>1355</td>\n",
              "    </tr>\n",
              "    <tr>\n",
              "      <th>2</th>\n",
              "      <td>old</td>\n",
              "      <td>633</td>\n",
              "      <td>553</td>\n",
              "    </tr>\n",
              "  </tbody>\n",
              "</table>\n",
              "</div>\n",
              "      <button class=\"colab-df-convert\" onclick=\"convertToInteractive('df-63551dca-a350-4fe5-a31f-d621032b0862')\"\n",
              "              title=\"Convert this dataframe to an interactive table.\"\n",
              "              style=\"display:none;\">\n",
              "        \n",
              "  <svg xmlns=\"http://www.w3.org/2000/svg\" height=\"24px\"viewBox=\"0 0 24 24\"\n",
              "       width=\"24px\">\n",
              "    <path d=\"M0 0h24v24H0V0z\" fill=\"none\"/>\n",
              "    <path d=\"M18.56 5.44l.94 2.06.94-2.06 2.06-.94-2.06-.94-.94-2.06-.94 2.06-2.06.94zm-11 1L8.5 8.5l.94-2.06 2.06-.94-2.06-.94L8.5 2.5l-.94 2.06-2.06.94zm10 10l.94 2.06.94-2.06 2.06-.94-2.06-.94-.94-2.06-.94 2.06-2.06.94z\"/><path d=\"M17.41 7.96l-1.37-1.37c-.4-.4-.92-.59-1.43-.59-.52 0-1.04.2-1.43.59L10.3 9.45l-7.72 7.72c-.78.78-.78 2.05 0 2.83L4 21.41c.39.39.9.59 1.41.59.51 0 1.02-.2 1.41-.59l7.78-7.78 2.81-2.81c.8-.78.8-2.07 0-2.86zM5.41 20L4 18.59l7.72-7.72 1.47 1.35L5.41 20z\"/>\n",
              "  </svg>\n",
              "      </button>\n",
              "      \n",
              "  <style>\n",
              "    .colab-df-container {\n",
              "      display:flex;\n",
              "      flex-wrap:wrap;\n",
              "      gap: 12px;\n",
              "    }\n",
              "\n",
              "    .colab-df-convert {\n",
              "      background-color: #E8F0FE;\n",
              "      border: none;\n",
              "      border-radius: 50%;\n",
              "      cursor: pointer;\n",
              "      display: none;\n",
              "      fill: #1967D2;\n",
              "      height: 32px;\n",
              "      padding: 0 0 0 0;\n",
              "      width: 32px;\n",
              "    }\n",
              "\n",
              "    .colab-df-convert:hover {\n",
              "      background-color: #E2EBFA;\n",
              "      box-shadow: 0px 1px 2px rgba(60, 64, 67, 0.3), 0px 1px 3px 1px rgba(60, 64, 67, 0.15);\n",
              "      fill: #174EA6;\n",
              "    }\n",
              "\n",
              "    [theme=dark] .colab-df-convert {\n",
              "      background-color: #3B4455;\n",
              "      fill: #D2E3FC;\n",
              "    }\n",
              "\n",
              "    [theme=dark] .colab-df-convert:hover {\n",
              "      background-color: #434B5C;\n",
              "      box-shadow: 0px 1px 3px 1px rgba(0, 0, 0, 0.15);\n",
              "      filter: drop-shadow(0px 1px 2px rgba(0, 0, 0, 0.3));\n",
              "      fill: #FFFFFF;\n",
              "    }\n",
              "  </style>\n",
              "\n",
              "      <script>\n",
              "        const buttonEl =\n",
              "          document.querySelector('#df-63551dca-a350-4fe5-a31f-d621032b0862 button.colab-df-convert');\n",
              "        buttonEl.style.display =\n",
              "          google.colab.kernel.accessAllowed ? 'block' : 'none';\n",
              "\n",
              "        async function convertToInteractive(key) {\n",
              "          const element = document.querySelector('#df-63551dca-a350-4fe5-a31f-d621032b0862');\n",
              "          const dataTable =\n",
              "            await google.colab.kernel.invokeFunction('convertToInteractive',\n",
              "                                                     [key], {});\n",
              "          if (!dataTable) return;\n",
              "\n",
              "          const docLinkHtml = 'Like what you see? Visit the ' +\n",
              "            '<a target=\"_blank\" href=https://colab.research.google.com/notebooks/data_table.ipynb>data table notebook</a>'\n",
              "            + ' to learn more about interactive tables.';\n",
              "          element.innerHTML = '';\n",
              "          dataTable['output_type'] = 'display_data';\n",
              "          await google.colab.output.renderOutput(dataTable, element);\n",
              "          const docLink = document.createElement('div');\n",
              "          docLink.innerHTML = docLinkHtml;\n",
              "          element.appendChild(docLink);\n",
              "        }\n",
              "      </script>\n",
              "    </div>\n",
              "  </div>\n",
              "  "
            ]
          },
          "metadata": {},
          "execution_count": 248
        }
      ]
    },
    {
      "cell_type": "markdown",
      "source": [
        "A function to generate data frame of the given Male and Female count."
      ],
      "metadata": {
        "id": "fgsQzEcdRgv3"
      },
      "id": "fgsQzEcdRgv3"
    },
    {
      "cell_type": "code",
      "source": [
        "def datagenarator(age,malecount,feamlecount):\n",
        "  Gender=np.repeat((\"M\",\"F\"), (malecount,feamlecount))\n",
        "  a=np.repeat(age,malecount+feamlecount)\n",
        "  #p=np.repeat(province,malecount+feamlecount)\n",
        "  df=pd.DataFrame(Gender,a)\n",
        "  df.reset_index(inplace=True)\n",
        "  df.columns = [\"Age\",'Gender',]\n",
        "  #df['Gender'] = Gender\n",
        "  return df"
      ],
      "metadata": {
        "id": "6hNl916ifc-N"
      },
      "id": "6hNl916ifc-N",
      "execution_count": 249,
      "outputs": []
    },
    {
      "cell_type": "code",
      "source": [
        "import random\n",
        "rng = np.random.default_rng()\n",
        "dfs=[]\n",
        "for i, row in df.iterrows():\n",
        "  #province=row['GEO_NAME']\n",
        "  age=row['age']\n",
        "  malecount=row['men_count']\n",
        "  feamlecount=row['women_count']\n",
        "  df=datagenarator( age, malecount, feamlecount)\n",
        "  dfs.append(df)\n",
        "master_df = pd.concat(dfs,axis=0,ignore_index=True)"
      ],
      "metadata": {
        "id": "YrvzhqY4f9tG"
      },
      "id": "YrvzhqY4f9tG",
      "execution_count": 250,
      "outputs": []
    },
    {
      "cell_type": "code",
      "source": [
        "df=master_df\n",
        "print(df.tail())\n",
        "df.shape"
      ],
      "metadata": {
        "id": "OkTXheaD5nv8",
        "colab": {
          "base_uri": "https://localhost:8080/"
        },
        "outputId": "92a281e9-0f70-4cf3-ade5-d3df05d062e4"
      },
      "id": "OkTXheaD5nv8",
      "execution_count": 251,
      "outputs": [
        {
          "output_type": "stream",
          "name": "stdout",
          "text": [
            "      Age Gender\n",
            "4995  old      F\n",
            "4996  old      F\n",
            "4997  old      F\n",
            "4998  old      F\n",
            "4999  old      F\n"
          ]
        },
        {
          "output_type": "execute_result",
          "data": {
            "text/plain": [
              "(5000, 2)"
            ]
          },
          "metadata": {},
          "execution_count": 251
        }
      ]
    },
    {
      "cell_type": "markdown",
      "source": [
        "Generating Loneliness Score"
      ],
      "metadata": {
        "id": "O7rGfj3F7P0D"
      },
      "id": "O7rGfj3F7P0D"
    },
    {
      "cell_type": "code",
      "source": [
        "def ds(df_row):\n",
        "  if df_row['Age'] == 'early':\n",
        "    if df_row['Gender']=='M':\n",
        "      ds=np.random.exponential(scale=8.16, size=1)\n",
        "      ds=ds[0]\n",
        "      ds=round(ds,2)\n",
        "    else:\n",
        "      ds=np.random.exponential(scale=11.27, size=1)\n",
        "      ds=ds[0]\n",
        "      ds=round(ds,2)\n",
        "  elif df_row['Age'] == 'middle':\n",
        "    if df_row['Gender']=='M':\n",
        "      ds=np.random.exponential(scale=8.71, size=1)\n",
        "      ds=ds[0]\n",
        "      ds=round(ds,2)\n",
        "    else:\n",
        "      ds=np.random.exponential(scale=8.72, size=1)\n",
        "      ds=ds[0]\n",
        "      ds=round(ds,2)\n",
        "  else:\n",
        "    if df_row['Gender']=='M':\n",
        "      ds=np.random.exponential(scale=5.61, size=1)\n",
        "      ds=ds[0]\n",
        "      ds=round(ds,2)\n",
        "    else:\n",
        "      ds=np.random.exponential(scale=7, size=1)\n",
        "      ds=ds[0]\n",
        "      ds=round(ds,2)\n",
        "  return ds"
      ],
      "metadata": {
        "id": "SqD2LL7Yrk38"
      },
      "execution_count": 252,
      "outputs": [],
      "id": "SqD2LL7Yrk38"
    },
    {
      "cell_type": "code",
      "source": [
        "df[\"Loneliness score\"] = df.apply(ds, axis=1)\n",
        "import random\n",
        "#df.loc[df['Depression score']<8] = 8 #round(random.uniform(8,10),2)\n",
        "df.loc[df[\"Loneliness score\"]>32] = 8.16 \n",
        "df.tail()"
      ],
      "metadata": {
        "id": "bTtgIildGl6J",
        "colab": {
          "base_uri": "https://localhost:8080/",
          "height": 206
        },
        "outputId": "978996d4-7fb4-47a1-cfb7-b72e3ca2af3b"
      },
      "id": "bTtgIildGl6J",
      "execution_count": 253,
      "outputs": [
        {
          "output_type": "execute_result",
          "data": {
            "text/plain": [
              "      Age Gender  Loneliness score\n",
              "4995  old      F              6.33\n",
              "4996  old      F              4.08\n",
              "4997  old      F             13.81\n",
              "4998  old      F             10.02\n",
              "4999  old      F              2.21"
            ],
            "text/html": [
              "\n",
              "  <div id=\"df-4b8ecbe9-2574-46c7-ba1f-1cfe0aea9b9a\">\n",
              "    <div class=\"colab-df-container\">\n",
              "      <div>\n",
              "<style scoped>\n",
              "    .dataframe tbody tr th:only-of-type {\n",
              "        vertical-align: middle;\n",
              "    }\n",
              "\n",
              "    .dataframe tbody tr th {\n",
              "        vertical-align: top;\n",
              "    }\n",
              "\n",
              "    .dataframe thead th {\n",
              "        text-align: right;\n",
              "    }\n",
              "</style>\n",
              "<table border=\"1\" class=\"dataframe\">\n",
              "  <thead>\n",
              "    <tr style=\"text-align: right;\">\n",
              "      <th></th>\n",
              "      <th>Age</th>\n",
              "      <th>Gender</th>\n",
              "      <th>Loneliness score</th>\n",
              "    </tr>\n",
              "  </thead>\n",
              "  <tbody>\n",
              "    <tr>\n",
              "      <th>4995</th>\n",
              "      <td>old</td>\n",
              "      <td>F</td>\n",
              "      <td>6.33</td>\n",
              "    </tr>\n",
              "    <tr>\n",
              "      <th>4996</th>\n",
              "      <td>old</td>\n",
              "      <td>F</td>\n",
              "      <td>4.08</td>\n",
              "    </tr>\n",
              "    <tr>\n",
              "      <th>4997</th>\n",
              "      <td>old</td>\n",
              "      <td>F</td>\n",
              "      <td>13.81</td>\n",
              "    </tr>\n",
              "    <tr>\n",
              "      <th>4998</th>\n",
              "      <td>old</td>\n",
              "      <td>F</td>\n",
              "      <td>10.02</td>\n",
              "    </tr>\n",
              "    <tr>\n",
              "      <th>4999</th>\n",
              "      <td>old</td>\n",
              "      <td>F</td>\n",
              "      <td>2.21</td>\n",
              "    </tr>\n",
              "  </tbody>\n",
              "</table>\n",
              "</div>\n",
              "      <button class=\"colab-df-convert\" onclick=\"convertToInteractive('df-4b8ecbe9-2574-46c7-ba1f-1cfe0aea9b9a')\"\n",
              "              title=\"Convert this dataframe to an interactive table.\"\n",
              "              style=\"display:none;\">\n",
              "        \n",
              "  <svg xmlns=\"http://www.w3.org/2000/svg\" height=\"24px\"viewBox=\"0 0 24 24\"\n",
              "       width=\"24px\">\n",
              "    <path d=\"M0 0h24v24H0V0z\" fill=\"none\"/>\n",
              "    <path d=\"M18.56 5.44l.94 2.06.94-2.06 2.06-.94-2.06-.94-.94-2.06-.94 2.06-2.06.94zm-11 1L8.5 8.5l.94-2.06 2.06-.94-2.06-.94L8.5 2.5l-.94 2.06-2.06.94zm10 10l.94 2.06.94-2.06 2.06-.94-2.06-.94-.94-2.06-.94 2.06-2.06.94z\"/><path d=\"M17.41 7.96l-1.37-1.37c-.4-.4-.92-.59-1.43-.59-.52 0-1.04.2-1.43.59L10.3 9.45l-7.72 7.72c-.78.78-.78 2.05 0 2.83L4 21.41c.39.39.9.59 1.41.59.51 0 1.02-.2 1.41-.59l7.78-7.78 2.81-2.81c.8-.78.8-2.07 0-2.86zM5.41 20L4 18.59l7.72-7.72 1.47 1.35L5.41 20z\"/>\n",
              "  </svg>\n",
              "      </button>\n",
              "      \n",
              "  <style>\n",
              "    .colab-df-container {\n",
              "      display:flex;\n",
              "      flex-wrap:wrap;\n",
              "      gap: 12px;\n",
              "    }\n",
              "\n",
              "    .colab-df-convert {\n",
              "      background-color: #E8F0FE;\n",
              "      border: none;\n",
              "      border-radius: 50%;\n",
              "      cursor: pointer;\n",
              "      display: none;\n",
              "      fill: #1967D2;\n",
              "      height: 32px;\n",
              "      padding: 0 0 0 0;\n",
              "      width: 32px;\n",
              "    }\n",
              "\n",
              "    .colab-df-convert:hover {\n",
              "      background-color: #E2EBFA;\n",
              "      box-shadow: 0px 1px 2px rgba(60, 64, 67, 0.3), 0px 1px 3px 1px rgba(60, 64, 67, 0.15);\n",
              "      fill: #174EA6;\n",
              "    }\n",
              "\n",
              "    [theme=dark] .colab-df-convert {\n",
              "      background-color: #3B4455;\n",
              "      fill: #D2E3FC;\n",
              "    }\n",
              "\n",
              "    [theme=dark] .colab-df-convert:hover {\n",
              "      background-color: #434B5C;\n",
              "      box-shadow: 0px 1px 3px 1px rgba(0, 0, 0, 0.15);\n",
              "      filter: drop-shadow(0px 1px 2px rgba(0, 0, 0, 0.3));\n",
              "      fill: #FFFFFF;\n",
              "    }\n",
              "  </style>\n",
              "\n",
              "      <script>\n",
              "        const buttonEl =\n",
              "          document.querySelector('#df-4b8ecbe9-2574-46c7-ba1f-1cfe0aea9b9a button.colab-df-convert');\n",
              "        buttonEl.style.display =\n",
              "          google.colab.kernel.accessAllowed ? 'block' : 'none';\n",
              "\n",
              "        async function convertToInteractive(key) {\n",
              "          const element = document.querySelector('#df-4b8ecbe9-2574-46c7-ba1f-1cfe0aea9b9a');\n",
              "          const dataTable =\n",
              "            await google.colab.kernel.invokeFunction('convertToInteractive',\n",
              "                                                     [key], {});\n",
              "          if (!dataTable) return;\n",
              "\n",
              "          const docLinkHtml = 'Like what you see? Visit the ' +\n",
              "            '<a target=\"_blank\" href=https://colab.research.google.com/notebooks/data_table.ipynb>data table notebook</a>'\n",
              "            + ' to learn more about interactive tables.';\n",
              "          element.innerHTML = '';\n",
              "          dataTable['output_type'] = 'display_data';\n",
              "          await google.colab.output.renderOutput(dataTable, element);\n",
              "          const docLink = document.createElement('div');\n",
              "          docLink.innerHTML = docLinkHtml;\n",
              "          element.appendChild(docLink);\n",
              "        }\n",
              "      </script>\n",
              "    </div>\n",
              "  </div>\n",
              "  "
            ]
          },
          "metadata": {},
          "execution_count": 253
        }
      ]
    },
    {
      "cell_type": "code",
      "source": [
        "df[\"Loneliness score\"].hist(bins=20)"
      ],
      "metadata": {
        "colab": {
          "base_uri": "https://localhost:8080/",
          "height": 285
        },
        "id": "spVQgAOJlucx",
        "outputId": "ce9f573b-8096-43c0-c6ad-c29e0446c329"
      },
      "id": "spVQgAOJlucx",
      "execution_count": 254,
      "outputs": [
        {
          "output_type": "execute_result",
          "data": {
            "text/plain": [
              "<matplotlib.axes._subplots.AxesSubplot at 0x7f46725871d0>"
            ]
          },
          "metadata": {},
          "execution_count": 254
        },
        {
          "output_type": "display_data",
          "data": {
            "text/plain": [
              "<Figure size 432x288 with 1 Axes>"
            ],
            "image/png": "[encoded data removed]"
          },
          "metadata": {}
        }
      ]
    },
    {
      "cell_type": "code",
      "source": [
        "x=df[\"Loneliness score\"].values\n",
        "x=x.tolist()\n",
        "x=np.array(x)\n",
        "x.ndim"
      ],
      "metadata": {
        "id": "eQbkSauTbO8r",
        "colab": {
          "base_uri": "https://localhost:8080/"
        },
        "outputId": "14942e84-118b-4c77-b837-ed90e88f1222"
      },
      "id": "eQbkSauTbO8r",
      "execution_count": 255,
      "outputs": [
        {
          "output_type": "execute_result",
          "data": {
            "text/plain": [
              "1"
            ]
          },
          "metadata": {},
          "execution_count": 255
        }
      ]
    },
    {
      "cell_type": "code",
      "source": [
        "x1 = x.reshape(1, 5000)\n",
        "x1.ndim"
      ],
      "metadata": {
        "id": "jn8AkFTbbgLR",
        "colab": {
          "base_uri": "https://localhost:8080/"
        },
        "outputId": "9862e582-92c2-41b4-b67f-ff0463aa36f6"
      },
      "id": "jn8AkFTbbgLR",
      "execution_count": 256,
      "outputs": [
        {
          "output_type": "execute_result",
          "data": {
            "text/plain": [
              "2"
            ]
          },
          "metadata": {},
          "execution_count": 256
        }
      ]
    },
    {
      "cell_type": "markdown",
      "source": [
        "Generating PHQ-9(corr=0.61 with Loneliness Score)"
      ],
      "metadata": {
        "id": "RTVg5ftm78tv"
      },
      "id": "RTVg5ftm78tv"
    },
    {
      "cell_type": "code",
      "source": [
        "\"\"\"Example of generating correlated exponentially distributed random samples.\"\"\"\n",
        "\n",
        "import numpy as np\n",
        "from scipy.linalg import eigh, cholesky\n",
        "from scipy.stats import norm\n",
        "\n",
        "from pylab import plot, show, axis, subplot, xlabel, ylabel, grid\n",
        "\n",
        "\n",
        "# Choice of cholesky or eigenvector method.\n",
        "method = 'cholesky'\n",
        "#method = 'eigenvectors'\n",
        "\n",
        "num_samples = 5000\n",
        "\n",
        "# The desired covariance matrix.\n",
        "r = np.array([\n",
        "        [  1, 0.68],\n",
        "        [ 0.68,  1],\n",
        "    ])\n",
        "\n",
        "# Generate samples from three independent exponentially distributed random\n",
        "# variables (with mean 0 and std. dev. 1).\n",
        "#x = norm.rvs(size=(3, num_samples))\n",
        "#x1 = np.random.exponential(scale=8.16, size= (1,num_samples))\n",
        "x2 = np.random.exponential(scale=8, size= (1, num_samples))\n",
        "x  = np.concatenate((x1, x2), axis=0)\n",
        "\n",
        "# We need a matrix `c` for which `c*c^T = r`.  We can use, for example,\n",
        "# the Cholesky decomposition, or the we can construct `c` from the\n",
        "# eigenvectors and eigenvalues.\n",
        "\n",
        "if method == 'cholesky':\n",
        "    # Compute the Cholesky decomposition.\n",
        "    c = cholesky(r, lower=True)\n",
        "else:\n",
        "    # Compute the eigenvalues and eigenvectors.\n",
        "    evals, evecs = eigh(r)\n",
        "    # Construct c, so c*c^T = r.\n",
        "    c = np.dot(evecs, np.diag(np.sqrt(evals)))\n",
        "\n",
        "# Convert the data to correlated random variables. \n",
        "y = np.dot(c, x)"
      ],
      "metadata": {
        "id": "rLTscpnXzZB-"
      },
      "id": "rLTscpnXzZB-",
      "execution_count": 257,
      "outputs": []
    },
    {
      "cell_type": "code",
      "source": [
        "from numpy.lib.shape_base import column_stack\n",
        "dfc=pd.DataFrame(y)\n",
        "dfc=dfc.T\n",
        "dfc.columns=['Loneliness Score','PHQ-9']\n",
        "print(dfc.head())\n",
        "print(dfc.shape)\n",
        "dfc.corr()"
      ],
      "metadata": {
        "id": "wFNIFF0a0IZP",
        "colab": {
          "base_uri": "https://localhost:8080/",
          "height": 234
        },
        "outputId": "4d75074a-c1d8-467e-8f2e-4f3fad86c147"
      },
      "id": "wFNIFF0a0IZP",
      "execution_count": 258,
      "outputs": [
        {
          "output_type": "stream",
          "name": "stdout",
          "text": [
            "   Loneliness Score      PHQ-9\n",
            "0             13.01  10.579341\n",
            "1              2.27   7.587087\n",
            "2             11.25  11.449265\n",
            "3             22.48  16.758134\n",
            "4             21.94  17.106922\n",
            "(5000, 2)\n"
          ]
        },
        {
          "output_type": "execute_result",
          "data": {
            "text/plain": [
              "                  Loneliness Score     PHQ-9\n",
              "Loneliness Score          1.000000  0.623064\n",
              "PHQ-9                     0.623064  1.000000"
            ],
            "text/html": [
              "\n",
              "  <div id=\"df-e1c0e994-a930-4d6a-aeec-fc7f746da684\">\n",
              "    <div class=\"colab-df-container\">\n",
              "      <div>\n",
              "<style scoped>\n",
              "    .dataframe tbody tr th:only-of-type {\n",
              "        vertical-align: middle;\n",
              "    }\n",
              "\n",
              "    .dataframe tbody tr th {\n",
              "        vertical-align: top;\n",
              "    }\n",
              "\n",
              "    .dataframe thead th {\n",
              "        text-align: right;\n",
              "    }\n",
              "</style>\n",
              "<table border=\"1\" class=\"dataframe\">\n",
              "  <thead>\n",
              "    <tr style=\"text-align: right;\">\n",
              "      <th></th>\n",
              "      <th>Loneliness Score</th>\n",
              "      <th>PHQ-9</th>\n",
              "    </tr>\n",
              "  </thead>\n",
              "  <tbody>\n",
              "    <tr>\n",
              "      <th>Loneliness Score</th>\n",
              "      <td>1.000000</td>\n",
              "      <td>0.623064</td>\n",
              "    </tr>\n",
              "    <tr>\n",
              "      <th>PHQ-9</th>\n",
              "      <td>0.623064</td>\n",
              "      <td>1.000000</td>\n",
              "    </tr>\n",
              "  </tbody>\n",
              "</table>\n",
              "</div>\n",
              "      <button class=\"colab-df-convert\" onclick=\"convertToInteractive('df-e1c0e994-a930-4d6a-aeec-fc7f746da684')\"\n",
              "              title=\"Convert this dataframe to an interactive table.\"\n",
              "              style=\"display:none;\">\n",
              "        \n",
              "  <svg xmlns=\"http://www.w3.org/2000/svg\" height=\"24px\"viewBox=\"0 0 24 24\"\n",
              "       width=\"24px\">\n",
              "    <path d=\"M0 0h24v24H0V0z\" fill=\"none\"/>\n",
              "    <path d=\"M18.56 5.44l.94 2.06.94-2.06 2.06-.94-2.06-.94-.94-2.06-.94 2.06-2.06.94zm-11 1L8.5 8.5l.94-2.06 2.06-.94-2.06-.94L8.5 2.5l-.94 2.06-2.06.94zm10 10l.94 2.06.94-2.06 2.06-.94-2.06-.94-.94-2.06-.94 2.06-2.06.94z\"/><path d=\"M17.41 7.96l-1.37-1.37c-.4-.4-.92-.59-1.43-.59-.52 0-1.04.2-1.43.59L10.3 9.45l-7.72 7.72c-.78.78-.78 2.05 0 2.83L4 21.41c.39.39.9.59 1.41.59.51 0 1.02-.2 1.41-.59l7.78-7.78 2.81-2.81c.8-.78.8-2.07 0-2.86zM5.41 20L4 18.59l7.72-7.72 1.47 1.35L5.41 20z\"/>\n",
              "  </svg>\n",
              "      </button>\n",
              "      \n",
              "  <style>\n",
              "    .colab-df-container {\n",
              "      display:flex;\n",
              "      flex-wrap:wrap;\n",
              "      gap: 12px;\n",
              "    }\n",
              "\n",
              "    .colab-df-convert {\n",
              "      background-color: #E8F0FE;\n",
              "      border: none;\n",
              "      border-radius: 50%;\n",
              "      cursor: pointer;\n",
              "      display: none;\n",
              "      fill: #1967D2;\n",
              "      height: 32px;\n",
              "      padding: 0 0 0 0;\n",
              "      width: 32px;\n",
              "    }\n",
              "\n",
              "    .colab-df-convert:hover {\n",
              "      background-color: #E2EBFA;\n",
              "      box-shadow: 0px 1px 2px rgba(60, 64, 67, 0.3), 0px 1px 3px 1px rgba(60, 64, 67, 0.15);\n",
              "      fill: #174EA6;\n",
              "    }\n",
              "\n",
              "    [theme=dark] .colab-df-convert {\n",
              "      background-color: #3B4455;\n",
              "      fill: #D2E3FC;\n",
              "    }\n",
              "\n",
              "    [theme=dark] .colab-df-convert:hover {\n",
              "      background-color: #434B5C;\n",
              "      box-shadow: 0px 1px 3px 1px rgba(0, 0, 0, 0.15);\n",
              "      filter: drop-shadow(0px 1px 2px rgba(0, 0, 0, 0.3));\n",
              "      fill: #FFFFFF;\n",
              "    }\n",
              "  </style>\n",
              "\n",
              "      <script>\n",
              "        const buttonEl =\n",
              "          document.querySelector('#df-e1c0e994-a930-4d6a-aeec-fc7f746da684 button.colab-df-convert');\n",
              "        buttonEl.style.display =\n",
              "          google.colab.kernel.accessAllowed ? 'block' : 'none';\n",
              "\n",
              "        async function convertToInteractive(key) {\n",
              "          const element = document.querySelector('#df-e1c0e994-a930-4d6a-aeec-fc7f746da684');\n",
              "          const dataTable =\n",
              "            await google.colab.kernel.invokeFunction('convertToInteractive',\n",
              "                                                     [key], {});\n",
              "          if (!dataTable) return;\n",
              "\n",
              "          const docLinkHtml = 'Like what you see? Visit the ' +\n",
              "            '<a target=\"_blank\" href=https://colab.research.google.com/notebooks/data_table.ipynb>data table notebook</a>'\n",
              "            + ' to learn more about interactive tables.';\n",
              "          element.innerHTML = '';\n",
              "          dataTable['output_type'] = 'display_data';\n",
              "          await google.colab.output.renderOutput(dataTable, element);\n",
              "          const docLink = document.createElement('div');\n",
              "          docLink.innerHTML = docLinkHtml;\n",
              "          element.appendChild(docLink);\n",
              "        }\n",
              "      </script>\n",
              "    </div>\n",
              "  </div>\n",
              "  "
            ]
          },
          "metadata": {},
          "execution_count": 258
        }
      ]
    },
    {
      "cell_type": "code",
      "source": [
        "#dfc.loc[dfc['PHQ-9']>27] = 0 # instead of 0 -> stronger right tail\n",
        "dfc['PHQ-9']=dfc['PHQ-9'].round(2)\n",
        "dfc.hist()\n",
        "dfc.head()"
      ],
      "metadata": {
        "id": "gaBpjJY-g7n_",
        "colab": {
          "base_uri": "https://localhost:8080/",
          "height": 473
        },
        "outputId": "a8a42276-62cb-4ec2-eb64-c57e362e802d"
      },
      "id": "gaBpjJY-g7n_",
      "execution_count": 259,
      "outputs": [
        {
          "output_type": "execute_result",
          "data": {
            "text/plain": [
              "   Loneliness Score  PHQ-9\n",
              "0             13.01  10.58\n",
              "1              2.27   7.59\n",
              "2             11.25  11.45\n",
              "3             22.48  16.76\n",
              "4             21.94  17.11"
            ],
            "text/html": [
              "\n",
              "  <div id=\"df-94ef0755-bbfa-4416-84b2-f51e85717b8b\">\n",
              "    <div class=\"colab-df-container\">\n",
              "      <div>\n",
              "<style scoped>\n",
              "    .dataframe tbody tr th:only-of-type {\n",
              "        vertical-align: middle;\n",
              "    }\n",
              "\n",
              "    .dataframe tbody tr th {\n",
              "        vertical-align: top;\n",
              "    }\n",
              "\n",
              "    .dataframe thead th {\n",
              "        text-align: right;\n",
              "    }\n",
              "</style>\n",
              "<table border=\"1\" class=\"dataframe\">\n",
              "  <thead>\n",
              "    <tr style=\"text-align: right;\">\n",
              "      <th></th>\n",
              "      <th>Loneliness Score</th>\n",
              "      <th>PHQ-9</th>\n",
              "    </tr>\n",
              "  </thead>\n",
              "  <tbody>\n",
              "    <tr>\n",
              "      <th>0</th>\n",
              "      <td>13.01</td>\n",
              "      <td>10.58</td>\n",
              "    </tr>\n",
              "    <tr>\n",
              "      <th>1</th>\n",
              "      <td>2.27</td>\n",
              "      <td>7.59</td>\n",
              "    </tr>\n",
              "    <tr>\n",
              "      <th>2</th>\n",
              "      <td>11.25</td>\n",
              "      <td>11.45</td>\n",
              "    </tr>\n",
              "    <tr>\n",
              "      <th>3</th>\n",
              "      <td>22.48</td>\n",
              "      <td>16.76</td>\n",
              "    </tr>\n",
              "    <tr>\n",
              "      <th>4</th>\n",
              "      <td>21.94</td>\n",
              "      <td>17.11</td>\n",
              "    </tr>\n",
              "  </tbody>\n",
              "</table>\n",
              "</div>\n",
              "      <button class=\"colab-df-convert\" onclick=\"convertToInteractive('df-94ef0755-bbfa-4416-84b2-f51e85717b8b')\"\n",
              "              title=\"Convert this dataframe to an interactive table.\"\n",
              "              style=\"display:none;\">\n",
              "        \n",
              "  <svg xmlns=\"http://www.w3.org/2000/svg\" height=\"24px\"viewBox=\"0 0 24 24\"\n",
              "       width=\"24px\">\n",
              "    <path d=\"M0 0h24v24H0V0z\" fill=\"none\"/>\n",
              "    <path d=\"M18.56 5.44l.94 2.06.94-2.06 2.06-.94-2.06-.94-.94-2.06-.94 2.06-2.06.94zm-11 1L8.5 8.5l.94-2.06 2.06-.94-2.06-.94L8.5 2.5l-.94 2.06-2.06.94zm10 10l.94 2.06.94-2.06 2.06-.94-2.06-.94-.94-2.06-.94 2.06-2.06.94z\"/><path d=\"M17.41 7.96l-1.37-1.37c-.4-.4-.92-.59-1.43-.59-.52 0-1.04.2-1.43.59L10.3 9.45l-7.72 7.72c-.78.78-.78 2.05 0 2.83L4 21.41c.39.39.9.59 1.41.59.51 0 1.02-.2 1.41-.59l7.78-7.78 2.81-2.81c.8-.78.8-2.07 0-2.86zM5.41 20L4 18.59l7.72-7.72 1.47 1.35L5.41 20z\"/>\n",
              "  </svg>\n",
              "      </button>\n",
              "      \n",
              "  <style>\n",
              "    .colab-df-container {\n",
              "      display:flex;\n",
              "      flex-wrap:wrap;\n",
              "      gap: 12px;\n",
              "    }\n",
              "\n",
              "    .colab-df-convert {\n",
              "      background-color: #E8F0FE;\n",
              "      border: none;\n",
              "      border-radius: 50%;\n",
              "      cursor: pointer;\n",
              "      display: none;\n",
              "      fill: #1967D2;\n",
              "      height: 32px;\n",
              "      padding: 0 0 0 0;\n",
              "      width: 32px;\n",
              "    }\n",
              "\n",
              "    .colab-df-convert:hover {\n",
              "      background-color: #E2EBFA;\n",
              "      box-shadow: 0px 1px 2px rgba(60, 64, 67, 0.3), 0px 1px 3px 1px rgba(60, 64, 67, 0.15);\n",
              "      fill: #174EA6;\n",
              "    }\n",
              "\n",
              "    [theme=dark] .colab-df-convert {\n",
              "      background-color: #3B4455;\n",
              "      fill: #D2E3FC;\n",
              "    }\n",
              "\n",
              "    [theme=dark] .colab-df-convert:hover {\n",
              "      background-color: #434B5C;\n",
              "      box-shadow: 0px 1px 3px 1px rgba(0, 0, 0, 0.15);\n",
              "      filter: drop-shadow(0px 1px 2px rgba(0, 0, 0, 0.3));\n",
              "      fill: #FFFFFF;\n",
              "    }\n",
              "  </style>\n",
              "\n",
              "      <script>\n",
              "        const buttonEl =\n",
              "          document.querySelector('#df-94ef0755-bbfa-4416-84b2-f51e85717b8b button.colab-df-convert');\n",
              "        buttonEl.style.display =\n",
              "          google.colab.kernel.accessAllowed ? 'block' : 'none';\n",
              "\n",
              "        async function convertToInteractive(key) {\n",
              "          const element = document.querySelector('#df-94ef0755-bbfa-4416-84b2-f51e85717b8b');\n",
              "          const dataTable =\n",
              "            await google.colab.kernel.invokeFunction('convertToInteractive',\n",
              "                                                     [key], {});\n",
              "          if (!dataTable) return;\n",
              "\n",
              "          const docLinkHtml = 'Like what you see? Visit the ' +\n",
              "            '<a target=\"_blank\" href=https://colab.research.google.com/notebooks/data_table.ipynb>data table notebook</a>'\n",
              "            + ' to learn more about interactive tables.';\n",
              "          element.innerHTML = '';\n",
              "          dataTable['output_type'] = 'display_data';\n",
              "          await google.colab.output.renderOutput(dataTable, element);\n",
              "          const docLink = document.createElement('div');\n",
              "          docLink.innerHTML = docLinkHtml;\n",
              "          element.appendChild(docLink);\n",
              "        }\n",
              "      </script>\n",
              "    </div>\n",
              "  </div>\n",
              "  "
            ]
          },
          "metadata": {},
          "execution_count": 259
        },
        {
          "output_type": "display_data",
          "data": {
            "text/plain": [
              "<Figure size 432x288 with 2 Axes>"
            ],
            "image/png": "[encoded data removed]"
          },
          "metadata": {}
        }
      ]
    },
    {
      "cell_type": "code",
      "source": [
        "# Scatter plot of the PHQ-9 with the Loneliness Score\n",
        "plt.scatter(dfc['Loneliness Score'],dfc['PHQ-9'])\n",
        "plt.xlabel('Loneliness Score')\n",
        "plt.ylabel('PHQ-9')"
      ],
      "metadata": {
        "id": "9MYveJvA6mlY",
        "colab": {
          "base_uri": "https://localhost:8080/",
          "height": 302
        },
        "outputId": "90b23af4-ec43-44a3-ec4a-1a0d4e0c0d3c"
      },
      "id": "9MYveJvA6mlY",
      "execution_count": 260,
      "outputs": [
        {
          "output_type": "execute_result",
          "data": {
            "text/plain": [
              "Text(0, 0.5, 'PHQ-9')"
            ]
          },
          "metadata": {},
          "execution_count": 260
        },
        {
          "output_type": "display_data",
          "data": {
            "text/plain": [
              "<Figure size 432x288 with 1 Axes>"
            ],
            "image/png": "[encoded data removed]"
          },
          "metadata": {}
        }
      ]
    },
    {
      "cell_type": "code",
      "source": [
        "df=df.drop([\"Loneliness score\"], axis=1)\n",
        "df=pd.concat([df,dfc], axis=1)\n",
        "df"
      ],
      "metadata": {
        "id": "KlTZ2xv91LV1",
        "colab": {
          "base_uri": "https://localhost:8080/",
          "height": 424
        },
        "outputId": "7232face-8494-4bf2-e436-a336086ca5b4"
      },
      "id": "KlTZ2xv91LV1",
      "execution_count": 261,
      "outputs": [
        {
          "output_type": "execute_result",
          "data": {
            "text/plain": [
              "        Age Gender  Loneliness Score  PHQ-9\n",
              "0     early      M             13.01  10.58\n",
              "1     early      M              2.27   7.59\n",
              "2     early      M             11.25  11.45\n",
              "3     early      M             22.48  16.76\n",
              "4     early      M             21.94  17.11\n",
              "...     ...    ...               ...    ...\n",
              "4995    old      F              6.33   4.78\n",
              "4996    old      F              4.08   4.11\n",
              "4997    old      F             13.81  11.09\n",
              "4998    old      F             10.02   7.39\n",
              "4999    old      F              2.21   2.20\n",
              "\n",
              "[5000 rows x 4 columns]"
            ],
            "text/html": [
              "\n",
              "  <div id=\"df-6c3c23e9-c0e4-429c-a67f-ce04bfa0b377\">\n",
              "    <div class=\"colab-df-container\">\n",
              "      <div>\n",
              "<style scoped>\n",
              "    .dataframe tbody tr th:only-of-type {\n",
              "        vertical-align: middle;\n",
              "    }\n",
              "\n",
              "    .dataframe tbody tr th {\n",
              "        vertical-align: top;\n",
              "    }\n",
              "\n",
              "    .dataframe thead th {\n",
              "        text-align: right;\n",
              "    }\n",
              "</style>\n",
              "<table border=\"1\" class=\"dataframe\">\n",
              "  <thead>\n",
              "    <tr style=\"text-align: right;\">\n",
              "      <th></th>\n",
              "      <th>Age</th>\n",
              "      <th>Gender</th>\n",
              "      <th>Loneliness Score</th>\n",
              "      <th>PHQ-9</th>\n",
              "    </tr>\n",
              "  </thead>\n",
              "  <tbody>\n",
              "    <tr>\n",
              "      <th>0</th>\n",
              "      <td>early</td>\n",
              "      <td>M</td>\n",
              "      <td>13.01</td>\n",
              "      <td>10.58</td>\n",
              "    </tr>\n",
              "    <tr>\n",
              "      <th>1</th>\n",
              "      <td>early</td>\n",
              "      <td>M</td>\n",
              "      <td>2.27</td>\n",
              "      <td>7.59</td>\n",
              "    </tr>\n",
              "    <tr>\n",
              "      <th>2</th>\n",
              "      <td>early</td>\n",
              "      <td>M</td>\n",
              "      <td>11.25</td>\n",
              "      <td>11.45</td>\n",
              "    </tr>\n",
              "    <tr>\n",
              "      <th>3</th>\n",
              "      <td>early</td>\n",
              "      <td>M</td>\n",
              "      <td>22.48</td>\n",
              "      <td>16.76</td>\n",
              "    </tr>\n",
              "    <tr>\n",
              "      <th>4</th>\n",
              "      <td>early</td>\n",
              "      <td>M</td>\n",
              "      <td>21.94</td>\n",
              "      <td>17.11</td>\n",
              "    </tr>\n",
              "    <tr>\n",
              "      <th>...</th>\n",
              "      <td>...</td>\n",
              "      <td>...</td>\n",
              "      <td>...</td>\n",
              "      <td>...</td>\n",
              "    </tr>\n",
              "    <tr>\n",
              "      <th>4995</th>\n",
              "      <td>old</td>\n",
              "      <td>F</td>\n",
              "      <td>6.33</td>\n",
              "      <td>4.78</td>\n",
              "    </tr>\n",
              "    <tr>\n",
              "      <th>4996</th>\n",
              "      <td>old</td>\n",
              "      <td>F</td>\n",
              "      <td>4.08</td>\n",
              "      <td>4.11</td>\n",
              "    </tr>\n",
              "    <tr>\n",
              "      <th>4997</th>\n",
              "      <td>old</td>\n",
              "      <td>F</td>\n",
              "      <td>13.81</td>\n",
              "      <td>11.09</td>\n",
              "    </tr>\n",
              "    <tr>\n",
              "      <th>4998</th>\n",
              "      <td>old</td>\n",
              "      <td>F</td>\n",
              "      <td>10.02</td>\n",
              "      <td>7.39</td>\n",
              "    </tr>\n",
              "    <tr>\n",
              "      <th>4999</th>\n",
              "      <td>old</td>\n",
              "      <td>F</td>\n",
              "      <td>2.21</td>\n",
              "      <td>2.20</td>\n",
              "    </tr>\n",
              "  </tbody>\n",
              "</table>\n",
              "<p>5000 rows × 4 columns</p>\n",
              "</div>\n",
              "      <button class=\"colab-df-convert\" onclick=\"convertToInteractive('df-6c3c23e9-c0e4-429c-a67f-ce04bfa0b377')\"\n",
              "              title=\"Convert this dataframe to an interactive table.\"\n",
              "              style=\"display:none;\">\n",
              "        \n",
              "  <svg xmlns=\"http://www.w3.org/2000/svg\" height=\"24px\"viewBox=\"0 0 24 24\"\n",
              "       width=\"24px\">\n",
              "    <path d=\"M0 0h24v24H0V0z\" fill=\"none\"/>\n",
              "    <path d=\"M18.56 5.44l.94 2.06.94-2.06 2.06-.94-2.06-.94-.94-2.06-.94 2.06-2.06.94zm-11 1L8.5 8.5l.94-2.06 2.06-.94-2.06-.94L8.5 2.5l-.94 2.06-2.06.94zm10 10l.94 2.06.94-2.06 2.06-.94-2.06-.94-.94-2.06-.94 2.06-2.06.94z\"/><path d=\"M17.41 7.96l-1.37-1.37c-.4-.4-.92-.59-1.43-.59-.52 0-1.04.2-1.43.59L10.3 9.45l-7.72 7.72c-.78.78-.78 2.05 0 2.83L4 21.41c.39.39.9.59 1.41.59.51 0 1.02-.2 1.41-.59l7.78-7.78 2.81-2.81c.8-.78.8-2.07 0-2.86zM5.41 20L4 18.59l7.72-7.72 1.47 1.35L5.41 20z\"/>\n",
              "  </svg>\n",
              "      </button>\n",
              "      \n",
              "  <style>\n",
              "    .colab-df-container {\n",
              "      display:flex;\n",
              "      flex-wrap:wrap;\n",
              "      gap: 12px;\n",
              "    }\n",
              "\n",
              "    .colab-df-convert {\n",
              "      background-color: #E8F0FE;\n",
              "      border: none;\n",
              "      border-radius: 50%;\n",
              "      cursor: pointer;\n",
              "      display: none;\n",
              "      fill: #1967D2;\n",
              "      height: 32px;\n",
              "      padding: 0 0 0 0;\n",
              "      width: 32px;\n",
              "    }\n",
              "\n",
              "    .colab-df-convert:hover {\n",
              "      background-color: #E2EBFA;\n",
              "      box-shadow: 0px 1px 2px rgba(60, 64, 67, 0.3), 0px 1px 3px 1px rgba(60, 64, 67, 0.15);\n",
              "      fill: #174EA6;\n",
              "    }\n",
              "\n",
              "    [theme=dark] .colab-df-convert {\n",
              "      background-color: #3B4455;\n",
              "      fill: #D2E3FC;\n",
              "    }\n",
              "\n",
              "    [theme=dark] .colab-df-convert:hover {\n",
              "      background-color: #434B5C;\n",
              "      box-shadow: 0px 1px 3px 1px rgba(0, 0, 0, 0.15);\n",
              "      filter: drop-shadow(0px 1px 2px rgba(0, 0, 0, 0.3));\n",
              "      fill: #FFFFFF;\n",
              "    }\n",
              "  </style>\n",
              "\n",
              "      <script>\n",
              "        const buttonEl =\n",
              "          document.querySelector('#df-6c3c23e9-c0e4-429c-a67f-ce04bfa0b377 button.colab-df-convert');\n",
              "        buttonEl.style.display =\n",
              "          google.colab.kernel.accessAllowed ? 'block' : 'none';\n",
              "\n",
              "        async function convertToInteractive(key) {\n",
              "          const element = document.querySelector('#df-6c3c23e9-c0e4-429c-a67f-ce04bfa0b377');\n",
              "          const dataTable =\n",
              "            await google.colab.kernel.invokeFunction('convertToInteractive',\n",
              "                                                     [key], {});\n",
              "          if (!dataTable) return;\n",
              "\n",
              "          const docLinkHtml = 'Like what you see? Visit the ' +\n",
              "            '<a target=\"_blank\" href=https://colab.research.google.com/notebooks/data_table.ipynb>data table notebook</a>'\n",
              "            + ' to learn more about interactive tables.';\n",
              "          element.innerHTML = '';\n",
              "          dataTable['output_type'] = 'display_data';\n",
              "          await google.colab.output.renderOutput(dataTable, element);\n",
              "          const docLink = document.createElement('div');\n",
              "          docLink.innerHTML = docLinkHtml;\n",
              "          element.appendChild(docLink);\n",
              "        }\n",
              "      </script>\n",
              "    </div>\n",
              "  </div>\n",
              "  "
            ]
          },
          "metadata": {},
          "execution_count": 261
        }
      ]
    },
    {
      "cell_type": "code",
      "source": [
        "df.head()"
      ],
      "metadata": {
        "id": "m5S-XC8dc5xw",
        "colab": {
          "base_uri": "https://localhost:8080/",
          "height": 206
        },
        "outputId": "2be7b759-3697-49e2-fb4c-a1bb299eba82"
      },
      "id": "m5S-XC8dc5xw",
      "execution_count": 262,
      "outputs": [
        {
          "output_type": "execute_result",
          "data": {
            "text/plain": [
              "     Age Gender  Loneliness Score  PHQ-9\n",
              "0  early      M             13.01  10.58\n",
              "1  early      M              2.27   7.59\n",
              "2  early      M             11.25  11.45\n",
              "3  early      M             22.48  16.76\n",
              "4  early      M             21.94  17.11"
            ],
            "text/html": [
              "\n",
              "  <div id=\"df-b483bb51-2162-4eac-802c-6bea9a7376b3\">\n",
              "    <div class=\"colab-df-container\">\n",
              "      <div>\n",
              "<style scoped>\n",
              "    .dataframe tbody tr th:only-of-type {\n",
              "        vertical-align: middle;\n",
              "    }\n",
              "\n",
              "    .dataframe tbody tr th {\n",
              "        vertical-align: top;\n",
              "    }\n",
              "\n",
              "    .dataframe thead th {\n",
              "        text-align: right;\n",
              "    }\n",
              "</style>\n",
              "<table border=\"1\" class=\"dataframe\">\n",
              "  <thead>\n",
              "    <tr style=\"text-align: right;\">\n",
              "      <th></th>\n",
              "      <th>Age</th>\n",
              "      <th>Gender</th>\n",
              "      <th>Loneliness Score</th>\n",
              "      <th>PHQ-9</th>\n",
              "    </tr>\n",
              "  </thead>\n",
              "  <tbody>\n",
              "    <tr>\n",
              "      <th>0</th>\n",
              "      <td>early</td>\n",
              "      <td>M</td>\n",
              "      <td>13.01</td>\n",
              "      <td>10.58</td>\n",
              "    </tr>\n",
              "    <tr>\n",
              "      <th>1</th>\n",
              "      <td>early</td>\n",
              "      <td>M</td>\n",
              "      <td>2.27</td>\n",
              "      <td>7.59</td>\n",
              "    </tr>\n",
              "    <tr>\n",
              "      <th>2</th>\n",
              "      <td>early</td>\n",
              "      <td>M</td>\n",
              "      <td>11.25</td>\n",
              "      <td>11.45</td>\n",
              "    </tr>\n",
              "    <tr>\n",
              "      <th>3</th>\n",
              "      <td>early</td>\n",
              "      <td>M</td>\n",
              "      <td>22.48</td>\n",
              "      <td>16.76</td>\n",
              "    </tr>\n",
              "    <tr>\n",
              "      <th>4</th>\n",
              "      <td>early</td>\n",
              "      <td>M</td>\n",
              "      <td>21.94</td>\n",
              "      <td>17.11</td>\n",
              "    </tr>\n",
              "  </tbody>\n",
              "</table>\n",
              "</div>\n",
              "      <button class=\"colab-df-convert\" onclick=\"convertToInteractive('df-b483bb51-2162-4eac-802c-6bea9a7376b3')\"\n",
              "              title=\"Convert this dataframe to an interactive table.\"\n",
              "              style=\"display:none;\">\n",
              "        \n",
              "  <svg xmlns=\"http://www.w3.org/2000/svg\" height=\"24px\"viewBox=\"0 0 24 24\"\n",
              "       width=\"24px\">\n",
              "    <path d=\"M0 0h24v24H0V0z\" fill=\"none\"/>\n",
              "    <path d=\"M18.56 5.44l.94 2.06.94-2.06 2.06-.94-2.06-.94-.94-2.06-.94 2.06-2.06.94zm-11 1L8.5 8.5l.94-2.06 2.06-.94-2.06-.94L8.5 2.5l-.94 2.06-2.06.94zm10 10l.94 2.06.94-2.06 2.06-.94-2.06-.94-.94-2.06-.94 2.06-2.06.94z\"/><path d=\"M17.41 7.96l-1.37-1.37c-.4-.4-.92-.59-1.43-.59-.52 0-1.04.2-1.43.59L10.3 9.45l-7.72 7.72c-.78.78-.78 2.05 0 2.83L4 21.41c.39.39.9.59 1.41.59.51 0 1.02-.2 1.41-.59l7.78-7.78 2.81-2.81c.8-.78.8-2.07 0-2.86zM5.41 20L4 18.59l7.72-7.72 1.47 1.35L5.41 20z\"/>\n",
              "  </svg>\n",
              "      </button>\n",
              "      \n",
              "  <style>\n",
              "    .colab-df-container {\n",
              "      display:flex;\n",
              "      flex-wrap:wrap;\n",
              "      gap: 12px;\n",
              "    }\n",
              "\n",
              "    .colab-df-convert {\n",
              "      background-color: #E8F0FE;\n",
              "      border: none;\n",
              "      border-radius: 50%;\n",
              "      cursor: pointer;\n",
              "      display: none;\n",
              "      fill: #1967D2;\n",
              "      height: 32px;\n",
              "      padding: 0 0 0 0;\n",
              "      width: 32px;\n",
              "    }\n",
              "\n",
              "    .colab-df-convert:hover {\n",
              "      background-color: #E2EBFA;\n",
              "      box-shadow: 0px 1px 2px rgba(60, 64, 67, 0.3), 0px 1px 3px 1px rgba(60, 64, 67, 0.15);\n",
              "      fill: #174EA6;\n",
              "    }\n",
              "\n",
              "    [theme=dark] .colab-df-convert {\n",
              "      background-color: #3B4455;\n",
              "      fill: #D2E3FC;\n",
              "    }\n",
              "\n",
              "    [theme=dark] .colab-df-convert:hover {\n",
              "      background-color: #434B5C;\n",
              "      box-shadow: 0px 1px 3px 1px rgba(0, 0, 0, 0.15);\n",
              "      filter: drop-shadow(0px 1px 2px rgba(0, 0, 0, 0.3));\n",
              "      fill: #FFFFFF;\n",
              "    }\n",
              "  </style>\n",
              "\n",
              "      <script>\n",
              "        const buttonEl =\n",
              "          document.querySelector('#df-b483bb51-2162-4eac-802c-6bea9a7376b3 button.colab-df-convert');\n",
              "        buttonEl.style.display =\n",
              "          google.colab.kernel.accessAllowed ? 'block' : 'none';\n",
              "\n",
              "        async function convertToInteractive(key) {\n",
              "          const element = document.querySelector('#df-b483bb51-2162-4eac-802c-6bea9a7376b3');\n",
              "          const dataTable =\n",
              "            await google.colab.kernel.invokeFunction('convertToInteractive',\n",
              "                                                     [key], {});\n",
              "          if (!dataTable) return;\n",
              "\n",
              "          const docLinkHtml = 'Like what you see? Visit the ' +\n",
              "            '<a target=\"_blank\" href=https://colab.research.google.com/notebooks/data_table.ipynb>data table notebook</a>'\n",
              "            + ' to learn more about interactive tables.';\n",
              "          element.innerHTML = '';\n",
              "          dataTable['output_type'] = 'display_data';\n",
              "          await google.colab.output.renderOutput(dataTable, element);\n",
              "          const docLink = document.createElement('div');\n",
              "          docLink.innerHTML = docLinkHtml;\n",
              "          element.appendChild(docLink);\n",
              "        }\n",
              "      </script>\n",
              "    </div>\n",
              "  </div>\n",
              "  "
            ]
          },
          "metadata": {},
          "execution_count": 262
        }
      ]
    },
    {
      "cell_type": "markdown",
      "source": [
        "Generating GAD-7(corr=0.50 with Loneliness Score)"
      ],
      "metadata": {
        "id": "SYvnPTrQ9AEv"
      },
      "id": "SYvnPTrQ9AEv"
    },
    {
      "cell_type": "code",
      "source": [
        "\"\"\"Example of generating correlated exponentially distributed random samples.\"\"\"\n",
        "\n",
        "import numpy as np\n",
        "from scipy.linalg import eigh, cholesky\n",
        "from scipy.stats import norm\n",
        "\n",
        "from pylab import plot, show, axis, subplot, xlabel, ylabel, grid\n",
        "\n",
        "\n",
        "# Choice of cholesky or eigenvector method.\n",
        "method = 'cholesky'\n",
        "#method = 'eigenvectors'\n",
        "\n",
        "num_samples = 5000\n",
        "\n",
        "# The desired covariance matrix.\n",
        "r = np.array([\n",
        "        [  1, 0.65],\n",
        "        [ 0.65,  1],\n",
        "    ])\n",
        "\n",
        "# Generate samples from three independent exponentially distributed random\n",
        "# variables (with mean 0 and std. dev. 1).\n",
        "#x = norm.rvs(size=(3, num_samples))\n",
        "#x1 = np.random.exponential(scale=8.16, size= (1,num_samples))\n",
        "x3 = np.random.exponential(scale=10, size= (1, num_samples))\n",
        "x  = np.concatenate((x1, x3), axis=0)\n",
        "\n",
        "# We need a matrix `c` for which `c*c^T = r`.  We can use, for example,\n",
        "# the Cholesky decomposition, or the we can construct `c` from the\n",
        "# eigenvectors and eigenvalues.\n",
        "\n",
        "if method == 'cholesky':\n",
        "    # Compute the Cholesky decomposition.\n",
        "    c = cholesky(r, lower=True)\n",
        "else:\n",
        "    # Compute the eigenvalues and eigenvectors.\n",
        "    evals, evecs = eigh(r)\n",
        "    # Construct c, so c*c^T = r.\n",
        "    c = np.dot(evecs, np.diag(np.sqrt(evals)))\n",
        "\n",
        "# Convert the data to correlated random variables. \n",
        "y = np.dot(c, x)"
      ],
      "metadata": {
        "id": "ST133MOc1w_r"
      },
      "id": "ST133MOc1w_r",
      "execution_count": 263,
      "outputs": []
    },
    {
      "cell_type": "code",
      "source": [
        "from numpy.lib.shape_base import column_stack\n",
        "dfd=pd.DataFrame(y)\n",
        "dfd=dfd.T\n",
        "dfd.columns=['Loneliness Score','GAD-7']\n",
        "print(dfd.head())\n",
        "print(dfd.shape)\n",
        "print(dfd.corr())\n",
        "dfd=round(dfd[['GAD-7']],2)\n",
        "dfd.loc[dfd['GAD-7']>21] = 0 "
      ],
      "metadata": {
        "colab": {
          "base_uri": "https://localhost:8080/"
        },
        "id": "Gj7wSan-2Jkh",
        "outputId": "08669104-afc7-47ef-9cb3-9cad2e4af3e9"
      },
      "id": "Gj7wSan-2Jkh",
      "execution_count": 264,
      "outputs": [
        {
          "output_type": "stream",
          "name": "stdout",
          "text": [
            "   Loneliness Score      GAD-7\n",
            "0             13.01  11.938465\n",
            "1              2.27   3.114445\n",
            "2             11.25  15.096677\n",
            "3             22.48  37.624520\n",
            "4             21.94  20.011672\n",
            "(5000, 2)\n",
            "                  Loneliness Score     GAD-7\n",
            "Loneliness Score          1.000000  0.501468\n",
            "GAD-7                     0.501468  1.000000\n"
          ]
        }
      ]
    },
    {
      "cell_type": "code",
      "source": [
        "df=pd.concat([df,dfd], axis=1)\n",
        "df"
      ],
      "metadata": {
        "colab": {
          "base_uri": "https://localhost:8080/",
          "height": 424
        },
        "id": "RWp4uJBZ7Ig0",
        "outputId": "1ba6ff6a-6572-448c-cef6-8643561ab7f9"
      },
      "id": "RWp4uJBZ7Ig0",
      "execution_count": 265,
      "outputs": [
        {
          "output_type": "execute_result",
          "data": {
            "text/plain": [
              "        Age Gender  Loneliness Score  PHQ-9  GAD-7\n",
              "0     early      M             13.01  10.58  11.94\n",
              "1     early      M              2.27   7.59   3.11\n",
              "2     early      M             11.25  11.45  15.10\n",
              "3     early      M             22.48  16.76   0.00\n",
              "4     early      M             21.94  17.11  20.01\n",
              "...     ...    ...               ...    ...    ...\n",
              "4995    old      F              6.33   4.78  15.77\n",
              "4996    old      F              4.08   4.11   3.40\n",
              "4997    old      F             13.81  11.09   0.00\n",
              "4998    old      F             10.02   7.39  10.29\n",
              "4999    old      F              2.21   2.20   1.66\n",
              "\n",
              "[5000 rows x 5 columns]"
            ],
            "text/html": [
              "\n",
              "  <div id=\"df-fea7eefa-8406-47f6-8b1c-819291113f13\">\n",
              "    <div class=\"colab-df-container\">\n",
              "      <div>\n",
              "<style scoped>\n",
              "    .dataframe tbody tr th:only-of-type {\n",
              "        vertical-align: middle;\n",
              "    }\n",
              "\n",
              "    .dataframe tbody tr th {\n",
              "        vertical-align: top;\n",
              "    }\n",
              "\n",
              "    .dataframe thead th {\n",
              "        text-align: right;\n",
              "    }\n",
              "</style>\n",
              "<table border=\"1\" class=\"dataframe\">\n",
              "  <thead>\n",
              "    <tr style=\"text-align: right;\">\n",
              "      <th></th>\n",
              "      <th>Age</th>\n",
              "      <th>Gender</th>\n",
              "      <th>Loneliness Score</th>\n",
              "      <th>PHQ-9</th>\n",
              "      <th>GAD-7</th>\n",
              "    </tr>\n",
              "  </thead>\n",
              "  <tbody>\n",
              "    <tr>\n",
              "      <th>0</th>\n",
              "      <td>early</td>\n",
              "      <td>M</td>\n",
              "      <td>13.01</td>\n",
              "      <td>10.58</td>\n",
              "      <td>11.94</td>\n",
              "    </tr>\n",
              "    <tr>\n",
              "      <th>1</th>\n",
              "      <td>early</td>\n",
              "      <td>M</td>\n",
              "      <td>2.27</td>\n",
              "      <td>7.59</td>\n",
              "      <td>3.11</td>\n",
              "    </tr>\n",
              "    <tr>\n",
              "      <th>2</th>\n",
              "      <td>early</td>\n",
              "      <td>M</td>\n",
              "      <td>11.25</td>\n",
              "      <td>11.45</td>\n",
              "      <td>15.10</td>\n",
              "    </tr>\n",
              "    <tr>\n",
              "      <th>3</th>\n",
              "      <td>early</td>\n",
              "      <td>M</td>\n",
              "      <td>22.48</td>\n",
              "      <td>16.76</td>\n",
              "      <td>0.00</td>\n",
              "    </tr>\n",
              "    <tr>\n",
              "      <th>4</th>\n",
              "      <td>early</td>\n",
              "      <td>M</td>\n",
              "      <td>21.94</td>\n",
              "      <td>17.11</td>\n",
              "      <td>20.01</td>\n",
              "    </tr>\n",
              "    <tr>\n",
              "      <th>...</th>\n",
              "      <td>...</td>\n",
              "      <td>...</td>\n",
              "      <td>...</td>\n",
              "      <td>...</td>\n",
              "      <td>...</td>\n",
              "    </tr>\n",
              "    <tr>\n",
              "      <th>4995</th>\n",
              "      <td>old</td>\n",
              "      <td>F</td>\n",
              "      <td>6.33</td>\n",
              "      <td>4.78</td>\n",
              "      <td>15.77</td>\n",
              "    </tr>\n",
              "    <tr>\n",
              "      <th>4996</th>\n",
              "      <td>old</td>\n",
              "      <td>F</td>\n",
              "      <td>4.08</td>\n",
              "      <td>4.11</td>\n",
              "      <td>3.40</td>\n",
              "    </tr>\n",
              "    <tr>\n",
              "      <th>4997</th>\n",
              "      <td>old</td>\n",
              "      <td>F</td>\n",
              "      <td>13.81</td>\n",
              "      <td>11.09</td>\n",
              "      <td>0.00</td>\n",
              "    </tr>\n",
              "    <tr>\n",
              "      <th>4998</th>\n",
              "      <td>old</td>\n",
              "      <td>F</td>\n",
              "      <td>10.02</td>\n",
              "      <td>7.39</td>\n",
              "      <td>10.29</td>\n",
              "    </tr>\n",
              "    <tr>\n",
              "      <th>4999</th>\n",
              "      <td>old</td>\n",
              "      <td>F</td>\n",
              "      <td>2.21</td>\n",
              "      <td>2.20</td>\n",
              "      <td>1.66</td>\n",
              "    </tr>\n",
              "  </tbody>\n",
              "</table>\n",
              "<p>5000 rows × 5 columns</p>\n",
              "</div>\n",
              "      <button class=\"colab-df-convert\" onclick=\"convertToInteractive('df-fea7eefa-8406-47f6-8b1c-819291113f13')\"\n",
              "              title=\"Convert this dataframe to an interactive table.\"\n",
              "              style=\"display:none;\">\n",
              "        \n",
              "  <svg xmlns=\"http://www.w3.org/2000/svg\" height=\"24px\"viewBox=\"0 0 24 24\"\n",
              "       width=\"24px\">\n",
              "    <path d=\"M0 0h24v24H0V0z\" fill=\"none\"/>\n",
              "    <path d=\"M18.56 5.44l.94 2.06.94-2.06 2.06-.94-2.06-.94-.94-2.06-.94 2.06-2.06.94zm-11 1L8.5 8.5l.94-2.06 2.06-.94-2.06-.94L8.5 2.5l-.94 2.06-2.06.94zm10 10l.94 2.06.94-2.06 2.06-.94-2.06-.94-.94-2.06-.94 2.06-2.06.94z\"/><path d=\"M17.41 7.96l-1.37-1.37c-.4-.4-.92-.59-1.43-.59-.52 0-1.04.2-1.43.59L10.3 9.45l-7.72 7.72c-.78.78-.78 2.05 0 2.83L4 21.41c.39.39.9.59 1.41.59.51 0 1.02-.2 1.41-.59l7.78-7.78 2.81-2.81c.8-.78.8-2.07 0-2.86zM5.41 20L4 18.59l7.72-7.72 1.47 1.35L5.41 20z\"/>\n",
              "  </svg>\n",
              "      </button>\n",
              "      \n",
              "  <style>\n",
              "    .colab-df-container {\n",
              "      display:flex;\n",
              "      flex-wrap:wrap;\n",
              "      gap: 12px;\n",
              "    }\n",
              "\n",
              "    .colab-df-convert {\n",
              "      background-color: #E8F0FE;\n",
              "      border: none;\n",
              "      border-radius: 50%;\n",
              "      cursor: pointer;\n",
              "      display: none;\n",
              "      fill: #1967D2;\n",
              "      height: 32px;\n",
              "      padding: 0 0 0 0;\n",
              "      width: 32px;\n",
              "    }\n",
              "\n",
              "    .colab-df-convert:hover {\n",
              "      background-color: #E2EBFA;\n",
              "      box-shadow: 0px 1px 2px rgba(60, 64, 67, 0.3), 0px 1px 3px 1px rgba(60, 64, 67, 0.15);\n",
              "      fill: #174EA6;\n",
              "    }\n",
              "\n",
              "    [theme=dark] .colab-df-convert {\n",
              "      background-color: #3B4455;\n",
              "      fill: #D2E3FC;\n",
              "    }\n",
              "\n",
              "    [theme=dark] .colab-df-convert:hover {\n",
              "      background-color: #434B5C;\n",
              "      box-shadow: 0px 1px 3px 1px rgba(0, 0, 0, 0.15);\n",
              "      filter: drop-shadow(0px 1px 2px rgba(0, 0, 0, 0.3));\n",
              "      fill: #FFFFFF;\n",
              "    }\n",
              "  </style>\n",
              "\n",
              "      <script>\n",
              "        const buttonEl =\n",
              "          document.querySelector('#df-fea7eefa-8406-47f6-8b1c-819291113f13 button.colab-df-convert');\n",
              "        buttonEl.style.display =\n",
              "          google.colab.kernel.accessAllowed ? 'block' : 'none';\n",
              "\n",
              "        async function convertToInteractive(key) {\n",
              "          const element = document.querySelector('#df-fea7eefa-8406-47f6-8b1c-819291113f13');\n",
              "          const dataTable =\n",
              "            await google.colab.kernel.invokeFunction('convertToInteractive',\n",
              "                                                     [key], {});\n",
              "          if (!dataTable) return;\n",
              "\n",
              "          const docLinkHtml = 'Like what you see? Visit the ' +\n",
              "            '<a target=\"_blank\" href=https://colab.research.google.com/notebooks/data_table.ipynb>data table notebook</a>'\n",
              "            + ' to learn more about interactive tables.';\n",
              "          element.innerHTML = '';\n",
              "          dataTable['output_type'] = 'display_data';\n",
              "          await google.colab.output.renderOutput(dataTable, element);\n",
              "          const docLink = document.createElement('div');\n",
              "          docLink.innerHTML = docLinkHtml;\n",
              "          element.appendChild(docLink);\n",
              "        }\n",
              "      </script>\n",
              "    </div>\n",
              "  </div>\n",
              "  "
            ]
          },
          "metadata": {},
          "execution_count": 265
        }
      ]
    },
    {
      "cell_type": "markdown",
      "source": [
        "The distribution of the generated data."
      ],
      "metadata": {
        "id": "xFSUSrStA9_F"
      },
      "id": "xFSUSrStA9_F"
    },
    {
      "cell_type": "code",
      "source": [
        "df.hist(figsize=[10,8])"
      ],
      "metadata": {
        "colab": {
          "base_uri": "https://localhost:8080/",
          "height": 588
        },
        "id": "MS-SU-py7zFN",
        "outputId": "50680f0f-d274-4490-e14e-b1db698e4a3d"
      },
      "id": "MS-SU-py7zFN",
      "execution_count": 266,
      "outputs": [
        {
          "output_type": "execute_result",
          "data": {
            "text/plain": [
              "array([[<matplotlib.axes._subplots.AxesSubplot object at 0x7f4671f34b90>,\n",
              "        <matplotlib.axes._subplots.AxesSubplot object at 0x7f4671e9f8d0>],\n",
              "       [<matplotlib.axes._subplots.AxesSubplot object at 0x7f46720d1b50>,\n",
              "        <matplotlib.axes._subplots.AxesSubplot object at 0x7f46720dd750>]],\n",
              "      dtype=object)"
            ]
          },
          "metadata": {},
          "execution_count": 266
        },
        {
          "output_type": "display_data",
          "data": {
            "text/plain": [
              "<Figure size 720x576 with 4 Axes>"
            ],
            "image/png": "[encoded data removed]"
          },
          "metadata": {}
        }
      ]
    },
    {
      "cell_type": "markdown",
      "source": [
        "Applying dummy coding on Gender\n"
      ],
      "metadata": {
        "id": "aHWYkLakBfs7"
      },
      "id": "aHWYkLakBfs7"
    },
    {
      "cell_type": "code",
      "source": [
        "df=pd.get_dummies(df,columns=['Gender'])\n",
        "df"
      ],
      "metadata": {
        "id": "EE2aH7Um5u1Q",
        "colab": {
          "base_uri": "https://localhost:8080/",
          "height": 424
        },
        "outputId": "c757ce3a-9cc1-4716-dcdb-8f049f47eded"
      },
      "id": "EE2aH7Um5u1Q",
      "execution_count": 267,
      "outputs": [
        {
          "output_type": "execute_result",
          "data": {
            "text/plain": [
              "        Age  Loneliness Score  PHQ-9  GAD-7  Gender_8.16  Gender_F  Gender_M\n",
              "0     early             13.01  10.58  11.94            0         0         1\n",
              "1     early              2.27   7.59   3.11            0         0         1\n",
              "2     early             11.25  11.45  15.10            0         0         1\n",
              "3     early             22.48  16.76   0.00            0         0         1\n",
              "4     early             21.94  17.11  20.01            0         0         1\n",
              "...     ...               ...    ...    ...          ...       ...       ...\n",
              "4995    old              6.33   4.78  15.77            0         1         0\n",
              "4996    old              4.08   4.11   3.40            0         1         0\n",
              "4997    old             13.81  11.09   0.00            0         1         0\n",
              "4998    old             10.02   7.39  10.29            0         1         0\n",
              "4999    old              2.21   2.20   1.66            0         1         0\n",
              "\n",
              "[5000 rows x 7 columns]"
            ],
            "text/html": [
              "\n",
              "  <div id=\"df-52167e9a-0473-4a40-8012-c8b17cd1e510\">\n",
              "    <div class=\"colab-df-container\">\n",
              "      <div>\n",
              "<style scoped>\n",
              "    .dataframe tbody tr th:only-of-type {\n",
              "        vertical-align: middle;\n",
              "    }\n",
              "\n",
              "    .dataframe tbody tr th {\n",
              "        vertical-align: top;\n",
              "    }\n",
              "\n",
              "    .dataframe thead th {\n",
              "        text-align: right;\n",
              "    }\n",
              "</style>\n",
              "<table border=\"1\" class=\"dataframe\">\n",
              "  <thead>\n",
              "    <tr style=\"text-align: right;\">\n",
              "      <th></th>\n",
              "      <th>Age</th>\n",
              "      <th>Loneliness Score</th>\n",
              "      <th>PHQ-9</th>\n",
              "      <th>GAD-7</th>\n",
              "      <th>Gender_8.16</th>\n",
              "      <th>Gender_F</th>\n",
              "      <th>Gender_M</th>\n",
              "    </tr>\n",
              "  </thead>\n",
              "  <tbody>\n",
              "    <tr>\n",
              "      <th>0</th>\n",
              "      <td>early</td>\n",
              "      <td>13.01</td>\n",
              "      <td>10.58</td>\n",
              "      <td>11.94</td>\n",
              "      <td>0</td>\n",
              "      <td>0</td>\n",
              "      <td>1</td>\n",
              "    </tr>\n",
              "    <tr>\n",
              "      <th>1</th>\n",
              "      <td>early</td>\n",
              "      <td>2.27</td>\n",
              "      <td>7.59</td>\n",
              "      <td>3.11</td>\n",
              "      <td>0</td>\n",
              "      <td>0</td>\n",
              "      <td>1</td>\n",
              "    </tr>\n",
              "    <tr>\n",
              "      <th>2</th>\n",
              "      <td>early</td>\n",
              "      <td>11.25</td>\n",
              "      <td>11.45</td>\n",
              "      <td>15.10</td>\n",
              "      <td>0</td>\n",
              "      <td>0</td>\n",
              "      <td>1</td>\n",
              "    </tr>\n",
              "    <tr>\n",
              "      <th>3</th>\n",
              "      <td>early</td>\n",
              "      <td>22.48</td>\n",
              "      <td>16.76</td>\n",
              "      <td>0.00</td>\n",
              "      <td>0</td>\n",
              "      <td>0</td>\n",
              "      <td>1</td>\n",
              "    </tr>\n",
              "    <tr>\n",
              "      <th>4</th>\n",
              "      <td>early</td>\n",
              "      <td>21.94</td>\n",
              "      <td>17.11</td>\n",
              "      <td>20.01</td>\n",
              "      <td>0</td>\n",
              "      <td>0</td>\n",
              "      <td>1</td>\n",
              "    </tr>\n",
              "    <tr>\n",
              "      <th>...</th>\n",
              "      <td>...</td>\n",
              "      <td>...</td>\n",
              "      <td>...</td>\n",
              "      <td>...</td>\n",
              "      <td>...</td>\n",
              "      <td>...</td>\n",
              "      <td>...</td>\n",
              "    </tr>\n",
              "    <tr>\n",
              "      <th>4995</th>\n",
              "      <td>old</td>\n",
              "      <td>6.33</td>\n",
              "      <td>4.78</td>\n",
              "      <td>15.77</td>\n",
              "      <td>0</td>\n",
              "      <td>1</td>\n",
              "      <td>0</td>\n",
              "    </tr>\n",
              "    <tr>\n",
              "      <th>4996</th>\n",
              "      <td>old</td>\n",
              "      <td>4.08</td>\n",
              "      <td>4.11</td>\n",
              "      <td>3.40</td>\n",
              "      <td>0</td>\n",
              "      <td>1</td>\n",
              "      <td>0</td>\n",
              "    </tr>\n",
              "    <tr>\n",
              "      <th>4997</th>\n",
              "      <td>old</td>\n",
              "      <td>13.81</td>\n",
              "      <td>11.09</td>\n",
              "      <td>0.00</td>\n",
              "      <td>0</td>\n",
              "      <td>1</td>\n",
              "      <td>0</td>\n",
              "    </tr>\n",
              "    <tr>\n",
              "      <th>4998</th>\n",
              "      <td>old</td>\n",
              "      <td>10.02</td>\n",
              "      <td>7.39</td>\n",
              "      <td>10.29</td>\n",
              "      <td>0</td>\n",
              "      <td>1</td>\n",
              "      <td>0</td>\n",
              "    </tr>\n",
              "    <tr>\n",
              "      <th>4999</th>\n",
              "      <td>old</td>\n",
              "      <td>2.21</td>\n",
              "      <td>2.20</td>\n",
              "      <td>1.66</td>\n",
              "      <td>0</td>\n",
              "      <td>1</td>\n",
              "      <td>0</td>\n",
              "    </tr>\n",
              "  </tbody>\n",
              "</table>\n",
              "<p>5000 rows × 7 columns</p>\n",
              "</div>\n",
              "      <button class=\"colab-df-convert\" onclick=\"convertToInteractive('df-52167e9a-0473-4a40-8012-c8b17cd1e510')\"\n",
              "              title=\"Convert this dataframe to an interactive table.\"\n",
              "              style=\"display:none;\">\n",
              "        \n",
              "  <svg xmlns=\"http://www.w3.org/2000/svg\" height=\"24px\"viewBox=\"0 0 24 24\"\n",
              "       width=\"24px\">\n",
              "    <path d=\"M0 0h24v24H0V0z\" fill=\"none\"/>\n",
              "    <path d=\"M18.56 5.44l.94 2.06.94-2.06 2.06-.94-2.06-.94-.94-2.06-.94 2.06-2.06.94zm-11 1L8.5 8.5l.94-2.06 2.06-.94-2.06-.94L8.5 2.5l-.94 2.06-2.06.94zm10 10l.94 2.06.94-2.06 2.06-.94-2.06-.94-.94-2.06-.94 2.06-2.06.94z\"/><path d=\"M17.41 7.96l-1.37-1.37c-.4-.4-.92-.59-1.43-.59-.52 0-1.04.2-1.43.59L10.3 9.45l-7.72 7.72c-.78.78-.78 2.05 0 2.83L4 21.41c.39.39.9.59 1.41.59.51 0 1.02-.2 1.41-.59l7.78-7.78 2.81-2.81c.8-.78.8-2.07 0-2.86zM5.41 20L4 18.59l7.72-7.72 1.47 1.35L5.41 20z\"/>\n",
              "  </svg>\n",
              "      </button>\n",
              "      \n",
              "  <style>\n",
              "    .colab-df-container {\n",
              "      display:flex;\n",
              "      flex-wrap:wrap;\n",
              "      gap: 12px;\n",
              "    }\n",
              "\n",
              "    .colab-df-convert {\n",
              "      background-color: #E8F0FE;\n",
              "      border: none;\n",
              "      border-radius: 50%;\n",
              "      cursor: pointer;\n",
              "      display: none;\n",
              "      fill: #1967D2;\n",
              "      height: 32px;\n",
              "      padding: 0 0 0 0;\n",
              "      width: 32px;\n",
              "    }\n",
              "\n",
              "    .colab-df-convert:hover {\n",
              "      background-color: #E2EBFA;\n",
              "      box-shadow: 0px 1px 2px rgba(60, 64, 67, 0.3), 0px 1px 3px 1px rgba(60, 64, 67, 0.15);\n",
              "      fill: #174EA6;\n",
              "    }\n",
              "\n",
              "    [theme=dark] .colab-df-convert {\n",
              "      background-color: #3B4455;\n",
              "      fill: #D2E3FC;\n",
              "    }\n",
              "\n",
              "    [theme=dark] .colab-df-convert:hover {\n",
              "      background-color: #434B5C;\n",
              "      box-shadow: 0px 1px 3px 1px rgba(0, 0, 0, 0.15);\n",
              "      filter: drop-shadow(0px 1px 2px rgba(0, 0, 0, 0.3));\n",
              "      fill: #FFFFFF;\n",
              "    }\n",
              "  </style>\n",
              "\n",
              "      <script>\n",
              "        const buttonEl =\n",
              "          document.querySelector('#df-52167e9a-0473-4a40-8012-c8b17cd1e510 button.colab-df-convert');\n",
              "        buttonEl.style.display =\n",
              "          google.colab.kernel.accessAllowed ? 'block' : 'none';\n",
              "\n",
              "        async function convertToInteractive(key) {\n",
              "          const element = document.querySelector('#df-52167e9a-0473-4a40-8012-c8b17cd1e510');\n",
              "          const dataTable =\n",
              "            await google.colab.kernel.invokeFunction('convertToInteractive',\n",
              "                                                     [key], {});\n",
              "          if (!dataTable) return;\n",
              "\n",
              "          const docLinkHtml = 'Like what you see? Visit the ' +\n",
              "            '<a target=\"_blank\" href=https://colab.research.google.com/notebooks/data_table.ipynb>data table notebook</a>'\n",
              "            + ' to learn more about interactive tables.';\n",
              "          element.innerHTML = '';\n",
              "          dataTable['output_type'] = 'display_data';\n",
              "          await google.colab.output.renderOutput(dataTable, element);\n",
              "          const docLink = document.createElement('div');\n",
              "          docLink.innerHTML = docLinkHtml;\n",
              "          element.appendChild(docLink);\n",
              "        }\n",
              "      </script>\n",
              "    </div>\n",
              "  </div>\n",
              "  "
            ]
          },
          "metadata": {},
          "execution_count": 267
        }
      ]
    },
    {
      "cell_type": "code",
      "source": [
        "df.describe()"
      ],
      "metadata": {
        "colab": {
          "base_uri": "https://localhost:8080/",
          "height": 300
        },
        "id": "7hREN8rP435p",
        "outputId": "e71519bc-3d5e-420e-fba3-6dfc4f7d763f"
      },
      "id": "7hREN8rP435p",
      "execution_count": 268,
      "outputs": [
        {
          "output_type": "execute_result",
          "data": {
            "text/plain": [
              "       Loneliness Score        PHQ-9        GAD-7  Gender_8.16     Gender_F     Gender_M\n",
              "count       5000.000000  5000.000000  5000.000000  5000.000000  5000.000000  5000.000000\n",
              "mean           7.508504    10.817326     8.269890     0.023000     0.474200     0.502800\n",
              "std            6.716692     7.217569     5.891393     0.149918     0.499384     0.500042\n",
              "min            0.000000     0.120000     0.000000     0.000000     0.000000     0.000000\n",
              "25%            2.320000     5.360000     3.400000     0.000000     0.000000     0.000000\n",
              "50%            5.585000     9.280000     7.900000     0.000000     0.000000     1.000000\n",
              "75%           10.640000    14.852500    12.792500     0.000000     1.000000     1.000000\n",
              "max           31.830000    59.070000    21.000000     1.000000     1.000000     1.000000"
            ],
            "text/html": [
              "\n",
              "  <div id=\"df-2b61fa22-ff67-43d3-9c4c-aa70f8e498dd\">\n",
              "    <div class=\"colab-df-container\">\n",
              "      <div>\n",
              "<style scoped>\n",
              "    .dataframe tbody tr th:only-of-type {\n",
              "        vertical-align: middle;\n",
              "    }\n",
              "\n",
              "    .dataframe tbody tr th {\n",
              "        vertical-align: top;\n",
              "    }\n",
              "\n",
              "    .dataframe thead th {\n",
              "        text-align: right;\n",
              "    }\n",
              "</style>\n",
              "<table border=\"1\" class=\"dataframe\">\n",
              "  <thead>\n",
              "    <tr style=\"text-align: right;\">\n",
              "      <th></th>\n",
              "      <th>Loneliness Score</th>\n",
              "      <th>PHQ-9</th>\n",
              "      <th>GAD-7</th>\n",
              "      <th>Gender_8.16</th>\n",
              "      <th>Gender_F</th>\n",
              "      <th>Gender_M</th>\n",
              "    </tr>\n",
              "  </thead>\n",
              "  <tbody>\n",
              "    <tr>\n",
              "      <th>count</th>\n",
              "      <td>5000.000000</td>\n",
              "      <td>5000.000000</td>\n",
              "      <td>5000.000000</td>\n",
              "      <td>5000.000000</td>\n",
              "      <td>5000.000000</td>\n",
              "      <td>5000.000000</td>\n",
              "    </tr>\n",
              "    <tr>\n",
              "      <th>mean</th>\n",
              "      <td>7.508504</td>\n",
              "      <td>10.817326</td>\n",
              "      <td>8.269890</td>\n",
              "      <td>0.023000</td>\n",
              "      <td>0.474200</td>\n",
              "      <td>0.502800</td>\n",
              "    </tr>\n",
              "    <tr>\n",
              "      <th>std</th>\n",
              "      <td>6.716692</td>\n",
              "      <td>7.217569</td>\n",
              "      <td>5.891393</td>\n",
              "      <td>0.149918</td>\n",
              "      <td>0.499384</td>\n",
              "      <td>0.500042</td>\n",
              "    </tr>\n",
              "    <tr>\n",
              "      <th>min</th>\n",
              "      <td>0.000000</td>\n",
              "      <td>0.120000</td>\n",
              "      <td>0.000000</td>\n",
              "      <td>0.000000</td>\n",
              "      <td>0.000000</td>\n",
              "      <td>0.000000</td>\n",
              "    </tr>\n",
              "    <tr>\n",
              "      <th>25%</th>\n",
              "      <td>2.320000</td>\n",
              "      <td>5.360000</td>\n",
              "      <td>3.400000</td>\n",
              "      <td>0.000000</td>\n",
              "      <td>0.000000</td>\n",
              "      <td>0.000000</td>\n",
              "    </tr>\n",
              "    <tr>\n",
              "      <th>50%</th>\n",
              "      <td>5.585000</td>\n",
              "      <td>9.280000</td>\n",
              "      <td>7.900000</td>\n",
              "      <td>0.000000</td>\n",
              "      <td>0.000000</td>\n",
              "      <td>1.000000</td>\n",
              "    </tr>\n",
              "    <tr>\n",
              "      <th>75%</th>\n",
              "      <td>10.640000</td>\n",
              "      <td>14.852500</td>\n",
              "      <td>12.792500</td>\n",
              "      <td>0.000000</td>\n",
              "      <td>1.000000</td>\n",
              "      <td>1.000000</td>\n",
              "    </tr>\n",
              "    <tr>\n",
              "      <th>max</th>\n",
              "      <td>31.830000</td>\n",
              "      <td>59.070000</td>\n",
              "      <td>21.000000</td>\n",
              "      <td>1.000000</td>\n",
              "      <td>1.000000</td>\n",
              "      <td>1.000000</td>\n",
              "    </tr>\n",
              "  </tbody>\n",
              "</table>\n",
              "</div>\n",
              "      <button class=\"colab-df-convert\" onclick=\"convertToInteractive('df-2b61fa22-ff67-43d3-9c4c-aa70f8e498dd')\"\n",
              "              title=\"Convert this dataframe to an interactive table.\"\n",
              "              style=\"display:none;\">\n",
              "        \n",
              "  <svg xmlns=\"http://www.w3.org/2000/svg\" height=\"24px\"viewBox=\"0 0 24 24\"\n",
              "       width=\"24px\">\n",
              "    <path d=\"M0 0h24v24H0V0z\" fill=\"none\"/>\n",
              "    <path d=\"M18.56 5.44l.94 2.06.94-2.06 2.06-.94-2.06-.94-.94-2.06-.94 2.06-2.06.94zm-11 1L8.5 8.5l.94-2.06 2.06-.94-2.06-.94L8.5 2.5l-.94 2.06-2.06.94zm10 10l.94 2.06.94-2.06 2.06-.94-2.06-.94-.94-2.06-.94 2.06-2.06.94z\"/><path d=\"M17.41 7.96l-1.37-1.37c-.4-.4-.92-.59-1.43-.59-.52 0-1.04.2-1.43.59L10.3 9.45l-7.72 7.72c-.78.78-.78 2.05 0 2.83L4 21.41c.39.39.9.59 1.41.59.51 0 1.02-.2 1.41-.59l7.78-7.78 2.81-2.81c.8-.78.8-2.07 0-2.86zM5.41 20L4 18.59l7.72-7.72 1.47 1.35L5.41 20z\"/>\n",
              "  </svg>\n",
              "      </button>\n",
              "      \n",
              "  <style>\n",
              "    .colab-df-container {\n",
              "      display:flex;\n",
              "      flex-wrap:wrap;\n",
              "      gap: 12px;\n",
              "    }\n",
              "\n",
              "    .colab-df-convert {\n",
              "      background-color: #E8F0FE;\n",
              "      border: none;\n",
              "      border-radius: 50%;\n",
              "      cursor: pointer;\n",
              "      display: none;\n",
              "      fill: #1967D2;\n",
              "      height: 32px;\n",
              "      padding: 0 0 0 0;\n",
              "      width: 32px;\n",
              "    }\n",
              "\n",
              "    .colab-df-convert:hover {\n",
              "      background-color: #E2EBFA;\n",
              "      box-shadow: 0px 1px 2px rgba(60, 64, 67, 0.3), 0px 1px 3px 1px rgba(60, 64, 67, 0.15);\n",
              "      fill: #174EA6;\n",
              "    }\n",
              "\n",
              "    [theme=dark] .colab-df-convert {\n",
              "      background-color: #3B4455;\n",
              "      fill: #D2E3FC;\n",
              "    }\n",
              "\n",
              "    [theme=dark] .colab-df-convert:hover {\n",
              "      background-color: #434B5C;\n",
              "      box-shadow: 0px 1px 3px 1px rgba(0, 0, 0, 0.15);\n",
              "      filter: drop-shadow(0px 1px 2px rgba(0, 0, 0, 0.3));\n",
              "      fill: #FFFFFF;\n",
              "    }\n",
              "  </style>\n",
              "\n",
              "      <script>\n",
              "        const buttonEl =\n",
              "          document.querySelector('#df-2b61fa22-ff67-43d3-9c4c-aa70f8e498dd button.colab-df-convert');\n",
              "        buttonEl.style.display =\n",
              "          google.colab.kernel.accessAllowed ? 'block' : 'none';\n",
              "\n",
              "        async function convertToInteractive(key) {\n",
              "          const element = document.querySelector('#df-2b61fa22-ff67-43d3-9c4c-aa70f8e498dd');\n",
              "          const dataTable =\n",
              "            await google.colab.kernel.invokeFunction('convertToInteractive',\n",
              "                                                     [key], {});\n",
              "          if (!dataTable) return;\n",
              "\n",
              "          const docLinkHtml = 'Like what you see? Visit the ' +\n",
              "            '<a target=\"_blank\" href=https://colab.research.google.com/notebooks/data_table.ipynb>data table notebook</a>'\n",
              "            + ' to learn more about interactive tables.';\n",
              "          element.innerHTML = '';\n",
              "          dataTable['output_type'] = 'display_data';\n",
              "          await google.colab.output.renderOutput(dataTable, element);\n",
              "          const docLink = document.createElement('div');\n",
              "          docLink.innerHTML = docLinkHtml;\n",
              "          element.appendChild(docLink);\n",
              "        }\n",
              "      </script>\n",
              "    </div>\n",
              "  </div>\n",
              "  "
            ]
          },
          "metadata": {},
          "execution_count": 268
        }
      ]
    },
    {
      "cell_type": "markdown",
      "source": [
        "Linear Regression to predict PHQ-9"
      ],
      "metadata": {
        "id": "7HrftsTPG_zZ"
      },
      "id": "7HrftsTPG_zZ"
    },
    {
      "cell_type": "code",
      "source": [
        "from sklearn import linear_model\n",
        "from sklearn.metrics import r2_score\n",
        "reg = linear_model.LinearRegression()\n",
        "X=df[['Loneliness Score','Gender_F','Gender_M']]\n",
        "y1=df['PHQ-9']\n",
        "reg.fit(X,y1)\n",
        "y1pred=reg.predict(X)\n",
        "plt.hist(y1pred)\n",
        "plt.xlabel(\"PHQ-9 Predicted\")\n",
        "plt.title(\"Multiple Linear Regression\")\n",
        "r2_score(y1, y1pred)\n",
        "\n"
      ],
      "metadata": {
        "colab": {
          "base_uri": "https://localhost:8080/",
          "height": 318
        },
        "id": "5tnidohsENus",
        "outputId": "4d05cdd9-a940-48b0-a09d-628863645440"
      },
      "id": "5tnidohsENus",
      "execution_count": 269,
      "outputs": [
        {
          "output_type": "execute_result",
          "data": {
            "text/plain": [
              "0.38837663226476005"
            ]
          },
          "metadata": {},
          "execution_count": 269
        },
        {
          "output_type": "display_data",
          "data": {
            "text/plain": [
              "<Figure size 432x288 with 1 Axes>"
            ],
            "image/png": "[encoded data removed]"
          },
          "metadata": {}
        }
      ]
    },
    {
      "cell_type": "code",
      "source": [
        "# regression coefficients\n",
        "reg.coef_  "
      ],
      "metadata": {
        "colab": {
          "base_uri": "https://localhost:8080/"
        },
        "id": "_10un-OEi50w",
        "outputId": "26ee524c-684f-4d9b-dd1e-a4e84725803f"
      },
      "id": "_10un-OEi50w",
      "execution_count": 270,
      "outputs": [
        {
          "output_type": "execute_result",
          "data": {
            "text/plain": [
              "array([0.66879893, 0.29851723, 0.11710473])"
            ]
          },
          "metadata": {},
          "execution_count": 270
        }
      ]
    },
    {
      "cell_type": "code",
      "source": [
        "# intercept\n",
        "reg.intercept_"
      ],
      "metadata": {
        "colab": {
          "base_uri": "https://localhost:8080/"
        },
        "id": "RrhnJurMjJaE",
        "outputId": "1dd66a13-ded3-42d1-f514-fd1a66637c0d"
      },
      "id": "RrhnJurMjJaE",
      "execution_count": 271,
      "outputs": [
        {
          "output_type": "execute_result",
          "data": {
            "text/plain": [
              "5.595209458046056"
            ]
          },
          "metadata": {},
          "execution_count": 271
        }
      ]
    },
    {
      "cell_type": "markdown",
      "source": [
        "Linear regression to predict GAD-7"
      ],
      "metadata": {
        "id": "admgeI6Q-gAe"
      },
      "id": "admgeI6Q-gAe"
    },
    {
      "cell_type": "code",
      "source": [
        "y2=df['GAD-7']\n",
        "reg.fit(X,y2)\n",
        "y2pred=reg.predict(X)\n",
        "plt.hist(y2pred)\n",
        "plt.xlabel(\"GAD-7 Predicted\")\n",
        "plt.title(\"Multiple Linear Regression\")\n",
        "r2_score(y2, y2pred)"
      ],
      "metadata": {
        "colab": {
          "base_uri": "https://localhost:8080/",
          "height": 318
        },
        "id": "Q1QgNjMM35n8",
        "outputId": "08a34f45-9c4e-44f5-cac2-677fca519a18"
      },
      "id": "Q1QgNjMM35n8",
      "execution_count": 272,
      "outputs": [
        {
          "output_type": "execute_result",
          "data": {
            "text/plain": [
              "0.028260876038268656"
            ]
          },
          "metadata": {},
          "execution_count": 272
        },
        {
          "output_type": "display_data",
          "data": {
            "text/plain": [
              "<Figure size 432x288 with 1 Axes>"
            ],
            "image/png": "[encoded data removed]"
          },
          "metadata": {}
        }
      ]
    },
    {
      "cell_type": "code",
      "source": [
        "#intercept\n",
        "reg.intercept_"
      ],
      "metadata": {
        "colab": {
          "base_uri": "https://localhost:8080/"
        },
        "id": "xRZBzUfyiucO",
        "outputId": "7e8e507b-e546-4cb5-df68-6c4b24e631a1"
      },
      "id": "xRZBzUfyiucO",
      "execution_count": 273,
      "outputs": [
        {
          "output_type": "execute_result",
          "data": {
            "text/plain": [
              "7.967660737286213"
            ]
          },
          "metadata": {},
          "execution_count": 273
        }
      ]
    },
    {
      "cell_type": "code",
      "source": [
        "#regression coefficients\n",
        "reg.coef_"
      ],
      "metadata": {
        "colab": {
          "base_uri": "https://localhost:8080/"
        },
        "id": "sthOfClUiyVV",
        "outputId": "171dd10f-dc40-447a-fe80-b4162d15559b"
      },
      "id": "sthOfClUiyVV",
      "execution_count": 274,
      "outputs": [
        {
          "output_type": "execute_result",
          "data": {
            "text/plain": [
              "array([ 0.14349852, -0.65106738, -0.92779202])"
            ]
          },
          "metadata": {},
          "execution_count": 274
        }
      ]
    },
    {
      "cell_type": "code",
      "source": [
        ""
      ],
      "metadata": {
        "id": "3aavzA93jSUw"
      },
      "id": "3aavzA93jSUw",
      "execution_count": 274,
      "outputs": []
    }
  ],
  "metadata": {
    "kernelspec": {
      "display_name": "Python 3",
      "language": "python",
      "name": "python3"
    },
    "language_info": {
      "codemirror_mode": {
        "name": "ipython",
        "version": 3
      },
      "file_extension": ".py",
      "mimetype": "text/x-python",
      "name": "python",
      "nbconvert_exporter": "python",
      "pygments_lexer": "ipython3",
      "version": "3.8.8"
    },
    "colab": {
      "name": "Sample_BCData.ipynb",
      "provenance": [],
      "include_colab_link": true
    },
    "accelerator": "GPU"
  },
  "nbformat": 4,
  "nbformat_minor": 5
}